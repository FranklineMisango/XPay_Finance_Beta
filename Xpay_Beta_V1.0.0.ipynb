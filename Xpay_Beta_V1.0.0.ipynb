{
  "cells": [
    {
      "cell_type": "markdown",
      "metadata": {
        "id": "RNWlhDHZI60l"
      },
      "source": [
        "#This project encompasses the LimeLocale's Finance API beta official AI that assists the team in Research in Stock health per company all over the world\n",
        "\n",
        "#As a starting step, It currently automates the Team's research on Stock and Crypto in China's GBA\n",
        "#TODO-Measure the accuracy of the model\n"
      ]
    },
    {
      "cell_type": "code",
      "execution_count": 53,
      "metadata": {
        "id": "Mi9OnOf0IQKf"
      },
      "outputs": [],
      "source": [
        "#Baseline_Setup_and_dependencies\n",
        "#Pegasus Tokenizer, NLP for summarization\n",
        "#BS4 scraps the web for news\n",
        "import sentencepiece\n",
        "import tensorflow\n",
        "import requests\n",
        "import pickle\n",
        "import re\n",
        "import tensorflow\n",
        "from transformers import PegasusTokenizer,PegasusForConditionalGeneration, TFPegasusForConditionalGeneration\n",
        "from bs4 import BeautifulSoup\n",
        "from transformers import pipeline\n"
      ]
    },
    {
      "cell_type": "code",
      "execution_count": 54,
      "metadata": {
        "id": "PXZTunCGKM-v"
      },
      "outputs": [
        {
          "data": {
            "text/plain": [
              "'\\nfrom transformers import AutoTokenizer, AutoModelForSeq2SeqLM\\ntokenizer = AutoTokenizer.from_pretrained(\"human-centered-summarization/financial-summarization-pegasus\")\\nmodel = AutoModelForSeq2SeqLM.from_pretrained(\"human-centered-summarization/financial-summarization-pegasus\")\\n'"
            ]
          },
          "execution_count": 54,
          "metadata": {},
          "output_type": "execute_result"
        }
      ],
      "source": [
        "#Loading and saving the summarization models  from the Hugging face model\n",
        "\n",
        "model_name = \"human-centered-summarization/financial-summarization-pegasus\"\n",
        "tokenizer = PegasusTokenizer.from_pretrained(model_name)\n",
        "model = PegasusForConditionalGeneration.from_pretrained(model_name)\n",
        "\n",
        "'''\n",
        "from transformers import AutoTokenizer, AutoModelForSeq2SeqLM\n",
        "tokenizer = AutoTokenizer.from_pretrained(\"human-centered-summarization/financial-summarization-pegasus\")\n",
        "model = AutoModelForSeq2SeqLM.from_pretrained(\"human-centered-summarization/financial-summarization-pegasus\")\n",
        "'''"
      ]
    },
    {
      "cell_type": "markdown",
      "metadata": {
        "id": "CVkISLxDpOd4"
      },
      "source": [
        "This Code slices focus on the Automation of more than one stock symbol"
      ]
    },
    {
      "cell_type": "code",
      "execution_count": 55,
      "metadata": {
        "colab": {
          "base_uri": "https://localhost:8080/"
        },
        "id": "PD9YBDbqPscL",
        "outputId": "c75aa6db-bab3-4e7c-9e48-81f27d72f5ac"
      },
      "outputs": [
        {
          "data": {
            "text/plain": [
              "{'MSFT': ['/?sa=X&ved=0ahUKEwiiwoCa7Jn-AhWJzaQKHfMuBH0QOwgC',\n",
              "  '/search?q=yahoo+finance+MSFT&tbm=nws&ie=UTF-8&gbv=1&sei=7iIxZKKTEImbkwXz3ZDoBw',\n",
              "  '/search?q=yahoo+finance+MSFT&ie=UTF-8&source=lnms&sa=X&ved=0ahUKEwiiwoCa7Jn-AhWJzaQKHfMuBH0Q_AUIBSgA',\n",
              "  '/search?q=yahoo+finance+MSFT&ie=UTF-8&tbm=isch&source=lnms&sa=X&ved=0ahUKEwiiwoCa7Jn-AhWJzaQKHfMuBH0Q_AUIBygC',\n",
              "  'https://maps.google.com/maps?q=yahoo+finance+MSFT&um=1&ie=UTF-8&sa=X&ved=0ahUKEwiiwoCa7Jn-AhWJzaQKHfMuBH0Q_AUICCgD',\n",
              "  '/search?q=yahoo+finance+MSFT&ie=UTF-8&tbm=vid&source=lnms&sa=X&ved=0ahUKEwiiwoCa7Jn-AhWJzaQKHfMuBH0Q_AUICSgE',\n",
              "  '/search?q=yahoo+finance+MSFT&ie=UTF-8&tbm=shop&source=lnms&sa=X&ved=0ahUKEwiiwoCa7Jn-AhWJzaQKHfMuBH0Q_AUICigF',\n",
              "  '/search?q=yahoo+finance+MSFT&ie=UTF-8&tbm=bks&source=lnms&sa=X&ved=0ahUKEwiiwoCa7Jn-AhWJzaQKHfMuBH0Q_AUICygG',\n",
              "  '/advanced_search',\n",
              "  '/search?q=yahoo+finance+MSFT&ie=UTF-8&tbm=nws&source=lnt&tbs=lr:lang_1zh-CN%7Clang_1zh-TW&lr=lang_zh-CN%7Clang_zh-TW&sa=X&ved=0ahUKEwiiwoCa7Jn-AhWJzaQKHfMuBH0QpwUIDQ',\n",
              "  '/search?q=yahoo+finance+MSFT&ie=UTF-8&tbm=nws&source=lnt&tbs=lr:lang_1zh-TW&lr=lang_zh-TW&sa=X&ved=0ahUKEwiiwoCa7Jn-AhWJzaQKHfMuBH0QpwUIDg',\n",
              "  '/search?q=yahoo+finance+MSFT&ie=UTF-8&tbm=nws&source=lnt&tbs=qdr:h&sa=X&ved=0ahUKEwiiwoCa7Jn-AhWJzaQKHfMuBH0QpwUIEA',\n",
              "  '/search?q=yahoo+finance+MSFT&ie=UTF-8&tbm=nws&source=lnt&tbs=qdr:d&sa=X&ved=0ahUKEwiiwoCa7Jn-AhWJzaQKHfMuBH0QpwUIEQ',\n",
              "  '/search?q=yahoo+finance+MSFT&ie=UTF-8&tbm=nws&source=lnt&tbs=qdr:w&sa=X&ved=0ahUKEwiiwoCa7Jn-AhWJzaQKHfMuBH0QpwUIEg',\n",
              "  '/search?q=yahoo+finance+MSFT&ie=UTF-8&tbm=nws&source=lnt&tbs=qdr:m&sa=X&ved=0ahUKEwiiwoCa7Jn-AhWJzaQKHfMuBH0QpwUIEw',\n",
              "  '/search?q=yahoo+finance+MSFT&ie=UTF-8&tbm=nws&source=lnt&tbs=qdr:y&sa=X&ved=0ahUKEwiiwoCa7Jn-AhWJzaQKHfMuBH0QpwUIFA',\n",
              "  '/search?q=yahoo+finance+MSFT&ie=UTF-8&tbm=nws&source=lnt&tbs=ar:1&sa=X&ved=0ahUKEwiiwoCa7Jn-AhWJzaQKHfMuBH0QpwUIFQ',\n",
              "  '/search?q=yahoo+finance+MSFT&ie=UTF-8&tbm=nws&source=lnt&tbs=sbd:1&sa=X&ved=0ahUKEwiiwoCa7Jn-AhWJzaQKHfMuBH0QpwUIFw',\n",
              "  '/url?q=https://finance.yahoo.com/news/microsoft-is-dominating-the-ai-warsfor-now-200037880.html&sa=U&ved=2ahUKEwiiwoCa7Jn-AhWJzaQKHfMuBH0QxfQBegQIABAC&usg=AOvVaw2rXP0JEvB4sb1cQludiZKu',\n",
              "  '/url?q=https://finance.yahoo.com/news/1-u-microsoft-reach-settlement-184020750.html&sa=U&ved=2ahUKEwiiwoCa7Jn-AhWJzaQKHfMuBH0QxfQBegQICRAC&usg=AOvVaw1B0Oq9b00fhiW7e1ZOnljx',\n",
              "  '/url?q=https://finance.yahoo.com/news/microsoft-hr-boss-wrote-legendary-005135292.html&sa=U&ved=2ahUKEwiiwoCa7Jn-AhWJzaQKHfMuBH0QxfQBegQICBAC&usg=AOvVaw1yYTsFzlm5tj5Nm7Z_m4FL',\n",
              "  '/url?q=https://finance.yahoo.com/news/googles-chatgpt-gambit-sundar-pichai-175125233.html&sa=U&ved=2ahUKEwiiwoCa7Jn-AhWJzaQKHfMuBH0QxfQBegQIARAC&usg=AOvVaw17atqhLECfp_dlCJ-gzvi6',\n",
              "  '/url?q=https://finance.yahoo.com/news/microsoft-escalates-war-against-playstation-214200023.html&sa=U&ved=2ahUKEwiiwoCa7Jn-AhWJzaQKHfMuBH0QxfQBegQIBBAC&usg=AOvVaw3kiUkPDTO5Ey-C7jakEMH0',\n",
              "  '/url?q=https://finance.yahoo.com/news/why-speculative-ai-stocks-like-c3ai-and-bigbearai-are-seeing-monster-volatility-123221071.html&sa=U&ved=2ahUKEwiiwoCa7Jn-AhWJzaQKHfMuBH0QxfQBegQIBRAC&usg=AOvVaw2OVCK0-7_eG3vSn6uqZf1w',\n",
              "  '/url?q=https://finance.yahoo.com/news/microsoft-is-bringing-ai-to-its-productivity-apps-in-another-strike-at-google-150058515.html&sa=U&ved=2ahUKEwiiwoCa7Jn-AhWJzaQKHfMuBH0QxfQBegQIBxAC&usg=AOvVaw1liq66EXwtE-k-dff_Lkfa',\n",
              "  '/url?q=https://finance.yahoo.com/news/uk-digital-regulator-recommends-competition-152719375.html&sa=U&ved=2ahUKEwiiwoCa7Jn-AhWJzaQKHfMuBH0QxfQBegQIBhAC&usg=AOvVaw1m1h-JYIXlN31niN_UxTrr',\n",
              "  '/url?q=https://finance.yahoo.com/news/googles-bard-vs-microsoft-backed-140424897.html&sa=U&ved=2ahUKEwiiwoCa7Jn-AhWJzaQKHfMuBH0QxfQBegQIAhAC&usg=AOvVaw0GBaHPXlyDDHur8iVW14A-',\n",
              "  '/url?q=https://finance.yahoo.com/news/microsoft-abandons-plans-office-london-195627186.html&sa=U&ved=2ahUKEwiiwoCa7Jn-AhWJzaQKHfMuBH0QxfQBegQIAxAC&usg=AOvVaw06YhfAQY0HSTMo5V2Zimia',\n",
              "  '/search?q=yahoo+finance+MSFT&ie=UTF-8&tbm=nws&ei=7iIxZKKTEImbkwXz3ZDoBw&start=10&sa=N',\n",
              "  '/url?q=https://support.google.com/websearch%3Fp%3Dws_settings_location%26hl%3Dzh-HK&sa=U&ved=0ahUKEwiiwoCa7Jn-AhWJzaQKHfMuBH0Qty4IVg&usg=AOvVaw0kaJa_2mKxybut-JVVLpZw',\n",
              "  '/url?q=https://accounts.google.com/ServiceLogin%3Fcontinue%3Dhttps://www.google.com/search%253Fq%253Dyahoo%252Bfinance%252BMSFT%2526tbm%253Dnws%26hl%3Dzh-TW&sa=U&ved=0ahUKEwiiwoCa7Jn-AhWJzaQKHfMuBH0Qxs8CCFc&usg=AOvVaw1rTnicN2jmOxoB5DHt5g5j',\n",
              "  'https://www.google.com/preferences?hl=zh-HK&fg=1&sa=X&ved=0ahUKEwiiwoCa7Jn-AhWJzaQKHfMuBH0Q5fUCCFg',\n",
              "  'https://policies.google.com/privacy?hl=zh-HK&fg=1',\n",
              "  'https://policies.google.com/terms?hl=zh-HK&fg=1',\n",
              "  '/setprefs?hl=zh-TW&prev=https://www.google.com/search?q%3Dyahoo%2Bfinance%2BMSFT%26tbm%3Dnws%26pccc%3D1&sig=0_laYyG7Pj6zFPrs0Gds_NWi2U2AM%3D&cs=2&sa=X&ved=0ahUKEwiiwoCa7Jn-AhWJzaQKHfMuBH0QjcAJCFk']}"
            ]
          },
          "execution_count": 55,
          "metadata": {},
          "output_type": "execute_result"
        }
      ],
      "source": [
        "#Building a News and Sentiment Pipleline\n",
        "#Test with company stock names --Edited to user preference\n",
        "#The model asks which tinkers you wanna monitor and how much\n",
        "#You can also edit the search URL to use expedia or Bloomberg finance\n",
        "#Search for stock news using Google and Yahoo Finance\n",
        "#TODO--> Figure out how to allow a universal Web scrapping instead of relying solely on Yahoo finance. ie investopedia, Bloomberg LP etc\n",
        "def search_for_stock_news_urls(ticker):\n",
        "  search_url = f\"https://www.google.com/search?q=yahoo+finance+{ticker}&tbm=nws\"\n",
        "  r = requests.get(search_url)\n",
        "  soup = BeautifulSoup(r.text, 'html.parser')\n",
        "  atags = soup.find_all('a')\n",
        "  hrefs = [link['href'] for link in atags]\n",
        "  return hrefs\n",
        "\n",
        "num_tickers = int(input(\"Enter the number of stock tickers you want to monitor: \"))\n",
        "monitored_tickers = []\n",
        "for i in range(num_tickers):\n",
        "  ticker = input(f\"Enter the company ticker {i+1}: \")\n",
        "  monitored_tickers.append(ticker)\n",
        "\n",
        "raw_urls = {ticker: search_for_stock_news_urls(ticker) for ticker in monitored_tickers}\n",
        "raw_urls"
      ]
    },
    {
      "cell_type": "code",
      "execution_count": 56,
      "metadata": {
        "colab": {
          "base_uri": "https://localhost:8080/"
        },
        "id": "WMtE00W8CT1n",
        "outputId": "915fae94-9b8b-4bfe-df9a-14f68666a66e"
      },
      "outputs": [
        {
          "data": {
            "text/plain": [
              "{'MSFT': ['https://finance.yahoo.com/news/1-u-microsoft-reach-settlement-184020750.html',\n",
              "  'https://finance.yahoo.com/news/microsoft-escalates-war-against-playstation-214200023.html',\n",
              "  'https://finance.yahoo.com/news/why-speculative-ai-stocks-like-c3ai-and-bigbearai-are-seeing-monster-volatility-123221071.html',\n",
              "  'https://finance.yahoo.com/news/microsoft-is-dominating-the-ai-warsfor-now-200037880.html',\n",
              "  'https://finance.yahoo.com/news/uk-digital-regulator-recommends-competition-152719375.html',\n",
              "  'https://www.google.com/search?q%3Dyahoo%2Bfinance%2BMSFT%26tbm%3Dnws%26pccc%3D1',\n",
              "  'https://finance.yahoo.com/news/microsoft-is-bringing-ai-to-its-productivity-apps-in-another-strike-at-google-150058515.html',\n",
              "  'https://finance.yahoo.com/news/microsoft-abandons-plans-office-london-195627186.html',\n",
              "  'https://finance.yahoo.com/news/googles-chatgpt-gambit-sundar-pichai-175125233.html',\n",
              "  'https://finance.yahoo.com/news/microsoft-hr-boss-wrote-legendary-005135292.html',\n",
              "  'https://finance.yahoo.com/news/googles-bard-vs-microsoft-backed-140424897.html']}"
            ]
          },
          "execution_count": 56,
          "metadata": {},
          "output_type": "execute_result"
        }
      ],
      "source": [
        "#Strip out the unwanted URLs--> policies,accounts, preferences etc\n",
        "excluded_list = ['maps', 'policies', 'preferences', 'support', 'accounts']\n",
        "def strip_unwanted_urls(urls, excluded_list):\n",
        "    final_val = []\n",
        "    for url in urls:\n",
        "        if 'https://' in url and not any(excluded_word in url for excluded_word in excluded_list):\n",
        "            res = re.findall(r'(https?://\\S+)', url)[0].split('&')[0]\n",
        "            final_val.append(res)\n",
        "    return list(set(final_val))\n",
        "\n",
        "cleaned_urls = {ticker:strip_unwanted_urls(raw_urls[ticker], excluded_list) for ticker in monitored_tickers}\n",
        "cleaned_urls\n"
      ]
    },
    {
      "cell_type": "code",
      "execution_count": 57,
      "metadata": {
        "colab": {
          "base_uri": "https://localhost:8080/"
        },
        "id": "yqWhNl48CUvs",
        "outputId": "af0ee685-a215-471e-9cc1-aafde1baa7c5"
      },
      "outputs": [
        {
          "data": {
            "text/plain": [
              "{'MSFT': ['(AddsdetailsofsanctionsviolationsfromTreasurynotice,acknowledgementofviolationsinMicrosoftstatement)ByKanishkaSinghWASHINGTON,April6(Reuters)-TheUnitedStatesandMicrosoftCorpreachedasettlementonThursdayoverthetechfirm\\'sapparentviolationsofsanctionsandexportcontrols,whichitdisclosedvoluntarily,thegovernmentandthecompanysaid.Microsofthasagreedtoremitabout$3milliontosettleitspotentialcivilliabilityformorethan1,300apparentsanctionsviolationsinrelationtorestrictionsonCuba,Iran,SyriaandRussiainvolvingtheexportofservicesorsoftwarefromtheU.S.tosanctionedjurisdictions,theU.S.TreasuryDepartmentsaidinastatement.TheTreasuryDepartmentaddedthatMicrosoft\\'sconductwas\"non-egregiousandvoluntarilyself-disclosed.\"Amajorityoftheviolations,whichtookplacebetween2012and2019,involvedblockedRussianentitiesorpersonslocatedintheCrimearegionofUkraine,andoccurredasaresultofMicrosoft\\'sfailuretoidentifyandpreventtheuseofitsproductsbyprohibitedparties,theTreasuryDepartmentsaid.RussiaannexedCrimeain2014beforelaunchingafullscaleinvasionofUkraineinearly2022.InanemailedstatementtoReuters,Microsoftacknowledgedfailuresinitssanctionscomplianceandsaidithadcooperatedwiththeprobeandwaspleasedwiththesettlement.\"Microsofttakesexportcontrolandsanctionscomplianceveryseriously,whichiswhyafterlearningofthescreeningfailuresandinfractionsofafewemployees,wevoluntarilydisclosedthemtotheappropriateauthorities,\"acompanyspokespersonsaid.ThecausesofsanctionsviolationsincludedalackofcompleteoraccurateinformationontheidentitiesoftheendcustomersforMicrosoftproducts,theTreasuryDepartmentsaid,addingthattherewereshortcomingsinMicrosoft\\'srestricted-partyscreening.(ReportingbyKanishkaSingh;EditingbyTimAhmannandRosalbaO\\'Brien)RelatedQuotes',\n",
              "  \"MicrosoftshutdownclassicgameemulationontheXboxSeriesX/SonApril6andasmallbutpassionatecommunityofretroenthusiasts,preservationists,andhomebrewdevsareupinarms.They’recallingontheconsolemakertoreversecourseandmakelegalemulationeasyagain,evenifitmeanspotentiallyantagonizingcompetitorslikeSonyandNintendo.TheXboxSeriesX/Sisunprecedentedamongconsolesinlettinguserseasilyemulateoldergames.Whenitlaunchedin2020,newownersdiscoveredtheabilitytoinstallemulatorsthatcouldplayclassicPlayStation2andGameCubegamesonit.That’sstillpossiblewithpaidaccesstotheconsole’sdevelopermode,butMicrosofthasnowlockeddownthatfeatureinstandardretailmode.Whereuserswerepreviouslyabletodownloadandrunemulatorsfordozensofoldconsoles,they’renowgreetedwithanerrorcodetellingthemsuchprogramsviolateMicrosoftStorepolicy.ReadmoreThe15BestGamesForSony'sPlayStation5The22BestGamesForTheNintendoSwitch“Ladiesandgentlemen,it’sbeenagoodrun,”tweetedgamr13,thedeveloperbehindtheXboxretailversionoftheRetroArchemulatorfrontend,whichincludesemulationcoresforeverythingfromtheNEStotheWii.TheysaidtheynowhadnochoicebuttotagXboxandMicrosoftGamingCEOPhilSpenceronTwitterwitha#LetUsEmulatehashtag.Althoughemulationisoftenassociatedwithpiracy,it’salsoalegalwaytoplaycopiesofgamesyoualreadyownonnewerhardwarewithmodernconveniences.Intheconsoles’earlierdays,XboxSeriesX/Sownerscouldinstallvariousemulatorsandemulatorfrontends,likeRetroArch,PPSPP,andDuckStation,usinglinksongamr13’sGithubpagetoinstallUniversalWindowsPlatform(UWP)versionsoftheseappsviatheconsoles’Microsoftstore.Butasthetechgiantbegantotakenotice,itbegantoremoveemulationappsfromthestoremoreandmorequickly.“EssentiallyMicrosoftwouldcrackdownonmyuploadswheretheyusedtolastmonths,toweeks,todays,untilnow,”gamr13toldKotaku.“SoIwouldsimplyre-uploadtheappswhenevertheyweretakendown,togetnewcomersandeveryonebackupandrunning.”OnewaytogettheemulatorstolastlongeronMicrosoft’sstorewastomarkthemasprivateandthen“whitelist”specificuserstobeabletodownloadthem.APatreonhelpedcoordinateandfundthisactivity.“Thecrackdownstartedtorampuparoundtheendofsummergoingintoautumn,where\",\n",
              "  'Therearethreethingsinvestorscouldhavebankedonoverthelastfivetradingsessions:Thestockmarketwouldopenat9:30a.m.,thestockmarketwouldcloseat4p.m.,andspeculativeAIstockswouldseemonsterlevelsofvolatility.Andwhosaidtherewasnothingdefiniteininvesting?!YahooFinanceiszoominginonsharesofspeculativeandbuzzyAInamesC3.ai,Inc.(AI),SoundHound(SOUN),andBigBear.ai(BBAI),allofwhichhaveseenoutsizedmovesinthelastfivetradingsessions.SoundHoundshareshavesurged26%,BigBear.aiisup11%,andC3.aihasplunged24%(inpartduetoafreshshort-sellerattack).AllthreenameshavebeenvirtuallypinnedtotheYahooFinance\"TrendingTicker\"page,too.Bycomparison,themoreestablishedandfundamentallystrongerAIplayssuchasMicrosoft(MSFT)andNvidia(NVDA)areonlydownslightlyinthepastfivetradingdays.Alphabet\\'s(GOOG,GOOGL)stockisactuallyupslightlyduringthisspan.Sowhatgiveswiththehead-turningactionintheaforementionedspeculativeAInames(whichareunderpinnedbycompaniesthathavenoprofits)?Traderspointtoafewfactors.\"Inmyopinion,it’stheexcessliquiditythathasbeenprovidedbytheFedandotherglobalcentralbanksduringthebankingcrisis.Whenexcessliquidityispushedintothemarkets,itinitiallytendstogointoanarrownumberofassets…thestocksandassetsthathavethemostmomentum.That’swhathappenedin2010/11…andaftertheliquidityinjectionsin2020,\"MillerTabakchiefmarketsstrategistMattMaleytellsmeviaemail.Pointtaken.SevensReportResearchfounderTomEssayetellsmethefiercemoveshavebeenignitedbyfearsofindustryregulationrainingdownonatopicthatexplodedintothemindsofinvestorsinMarchamidhypearoundChatGPT.\"BasicallyIthinkthere’ssomeregulationconcerns,notsomuchinthegovernmentalsenseyet,butperhapsindustryregulations.That’sjustinjectingsomefundamentaluncertaintyintothewholespace,andgiventhevaluationsandpopularityoftheAInames,it’sresultinginsomewildgyrations!\"Essayesays.ThepastweekalonehasputaspotlightonEssaye\\'sview.“Techcompanieshavearesponsibility,inmyview,tomakesuretheirproductsaresafebeforemakingthempublic,”PresidentJoeBidensaidatascienceandtechconferenceonWednesday.\"Itremainstobeseen.Itcouldbe,\"thepresidentrepliedwhenaskedifAIwasdangerous.Meantime,TeslaCEOElonMuskand',\n",
              "  \"Wednesday,March29,2023WhenitcomestogenerativeAI,Microsoft(MSFT)isdominatingtheconversation.AfterpouringbillionsintoChatGPTdeveloperOpenAI,thetechgiantisbuildingoutasmallAIempire,addingthetechnologytoeverythingfromitsDynamics365toOffice365,and,ofcourse,Bing.NowMicrosoftisbringinggenerativeAItoitscybersecurityofferingsviaitsMicrosoftSecurityCopilot.It'sallpartofMicrosoft’sstrategytoensurethatwhenitcomestothelatestgenerationofAI,it’sthecompanythatyouthinkoffirst.Andit’sworking.“Theyareclearlyoutinfrontofeverybodyelse,”FrankDickson,groupVPofsecurityandtrustatInternationalDataCorporation,toldYahooFinance.Butaheadstartdoesn’tmeanthatMicrosoftwillstayintheleadforever.GoogleparentAlphabet(GOOG,GOOGL)ismakingbigbetsofitsown,whileFacebookparentMeta(META)isbuildingateamofengineerstofocusonthegenerativeAIspace.“Thisisabaseballgame,”Dicksonsaid.“Microsoftisthrowingthefirstpitchrightnow.Theotherteamhasn'tshownupforthegame.Andsowedon'tknowwhenthey'regonnashowupforthegame,andwedon'tknowwhatthey'regoingtobringtothatgame.”Microsoft’sbigAImovescameatjusttherighttimeforthetechgiant.ItdebuteditsOpenAI-poweredBingsearchengineandEdgewebbrowserinFebruaryasChatGPT’spopularityexplodedintothemainstream.ItkeptridingthatwaveearlierthismonthwhenitannouncedthatBinghitatotalof100milliondailyactiveusersandthatthesoftwareisrunningonOpenAI’slatestGPT-4model.Bycontrast,GoogleflubbedthedebutofitscompetinggenerativeAIchatbotBard,withevenemployeescallingtheannouncement“botched,”accordingtoCNBC.ButGooglehasbeenpackingdifferenttypesofAIintonearlyallofitsproductsforyears.AndthefactthatitdebutedBardadaybeforeBinganditsAIassistantforWorkspacestwodaysbeforeMicrosoft’sOffice365Copilot,provesthatit’snotwillingtotakeMicrosoft’sincursionintotheAIspacelyingdown.EvenmoretroublesomeforMicrosoft,though,isthefactthattheattentionit’sbroughttogenerativeAIishelpingtospawnahostofotherpotentialrivals.“IndrivingsomuchexcitementandattentionaroundgenerativeAI,youknow,[Microsofthas]obviouslydrivenalotofnewprospectsandcustomerstothemselves,”ForresterAnalystRowan\",\n",
              "  \"AtthehalfwaypointofitsprobeintoU.K.cloudservices,U.K.digitalregulator\\xa0Ofcom\\xa0decidestoreferthemarkettotheCompetitionandMarketsAuthorityforfurtherinvestigationafterdiscoveringobjectionablepracticesbytheinfluential\\xa0cloudserviceproviders.Ofcomflagged\\xa0Amazon.ComInc\\xa0(NASDAQ:AMZN)and\\xa0MicrosoftCorp's\\xa0(NASDAQ:MSFT)practicesforexploitingtheirmarketpositiontomakeitmoredifficultforcustomerstoswitchandusemultiplecloud\\xa0suppliers.Ofcomfoundthat\\xa0AmazonWebServices(AWS)\\xa0andMicrosofthaveacombinedmarketshareof60-70%intheU.K.\\xa0AlphabetInc\\xa0(NASDAQ:GOOG)(NASDAQ:GOOGL)\\xa0Google\\xa0istheirclosestcompetitorwithashareof5-10%.Collectivelythesefirmsareknownasthe'hyperscalers,'andthevastmajorityofcloudcustomersusetheirservicesinsomeform.AlsoRead:\\xa0GoogleFlagsMicrosoft'sCloudPracticesAsAnti-CompetitiveOfcomflaggedtheexorbitantegressfees,technicalrestrictionsoninteroperability,andcommittedspenddiscountsbytheinfluentialserviceproviderstostiflecompetitionforsmallercloudproviders.Theregulatorproposestopublishafinalreportonitsfindingsandrecommendations,includingitsdecisiononamarketinvestigation,by5October2023.ItsuggestedreferringthecloudinfrastructuremarkettotheCMAtocarryoutamarketinvestigationtoexaminethenatureandextentofbarriersfurtherandconsiderifthereareinterventionsthatcouldimprovehowthemarketworksforcustomersand,ultimatelyU.K.consumers.PhotobyRainerStropekviaFlickrDon'tmissreal-timealertsonyourstocks-joinBenzingaProforfree!Trythetoolthatwillhelpyouinvestsmarter,faster,andbetter.ThisarticleUKDigitalRegulatorRecommendsCompetitionWatchdogToInspectAmazon,Microsoft'sDuopolyInUKCloudMarketoriginallyappearedonBenzinga.com.©2023Benzinga.com.Benzingadoesnotprovideinvestmentadvice.Allrightsreserved.RelatedQuotes\",\n",
              "  '©2023-私隱權政策-條款',\n",
              "  'Microsoft(MSFT)onThursdayannouncedthatit’sbringingitsgenerativeAIcapabilitiestoitsmostimportantsoftware:itsMicrosoft365productivitysuite.CalledMicrosoft365Copilot,andusingsomeofOpenAI’slargelanguagemodeltechnology,thefeatureisdesignedtoserveasakindofon-handexperttohelpyouspeedupyourproductivity.MicrosoftpromisesitsCopilotwillbeabletohelpyoudoeverythingfromdraftingemailsandputtingtogetherPowerPointpresentationstogeneratingideasinWordandsummarizingkeypointsduringmeetingsviaTeams.IsitacoincidencethatGoogle(GOOG,GOOGL)announceditsownsimilarfeatureforitsWorkspacesproductivityappsdaysbeforeMicrosoft’sdebut,justasitshowedoffitsBardAIaheadofMicrosoft’sBingAIevent?Who’stosay?Butthebackandforthiscertainlyfuntowatchfromthesidelines.AccordingtoMicrosoft,Copilot365offersdifferentfunctionalityacrossthecompany’sMicrosoft365apps.InOffice,forinstance,Copilotcanputtogetherafirstdraftofadocumentbasedonyoursuggestions,whichyoucantheneditandrewriteonyourown.MicrosoftsaysthatCopilotwilloccasionallybewrongwhengeneratingcontent,butthatwillstillhelpyoumoveforward.That’slikelytobeaboonforwhitecollarworkerswhodon’twanttohavetotypeuptediousreports,butwilllikelyfacesomepushbackfromeducators,justasBingandChatGPThavealready.WithCopilotforPowerPoint,thesoftwarecanquicklyassembleaneditablepresentationforyoubasedonyourownprompts.AssomeonewhowasneverfondofputtingtogetherPowerPointsinhighschoolorcollege,Icouldseethisbeingamajorhelpingettingthingsoffthegroundwhenstartingoutonanewproject.InExcel,MicrosoftsaysCopilotcanpulloutdifferenttrendsfromyourdataandturnthemintovisualizations.AsforOutlook,Copilotwillsummarizelongemailthreadsandpulloutpertinentinformationwhileofferingyousuggestedreplies.OneofthemoreinterestingwaysMicrosoftisusingCopilotisinTeams,wherethecompanysaysthebotwillbeabletosummarizeimportantpointsduringmeetings,downtowhosaidwhataboutspecifictopics,andthencreateactionitemsformovingforward.WhileCopilotisbasedontechnologyfromOpenAIlikeChatGPT,Microsoftsaysitgoesfurtherthanwhat’sfoundinitsBingchatbotandEdgebrowser.That’sbecauseCopilottakesadvantageofyourowndataincludingyourdocuments,emails,',\n",
              "  '(Bloomberg)--MicrosoftCorp.isabandoningplansforanewofficecomplexinLondon,thecompanysaidTuesday,showinghowplanstotrim10,000workersthisyearwillaffectitsrealestateneeds.MostReadfromBloombergSummersSaysRecessionProbabilitiesRising,FedNearingtheEndAbortionPilltoBeBlockedNationwideUnderJudge’sOrderJobMarketSoftensOnlyaBit,KeepingFedonTrackforMayHikeTeslaCutsPricesofAllModelsfortheSecondTimeThisYearGoogleandAmazonStruggletoLayOffWorkersinEurope“WearecommittedtotheUKandhavefacilitiesacrossthecountry,”thecompanysaidinanemailedstatement,withoutelaboratingonitsplans.“Weregularlyreviewourportfoliotomakesureitmeetstheneedsofourpeopleandourlong-termbusiness.”TheRedmond,Washington-basedcompanyinJanuarysaiditwouldcutitsworkforceby5%thisyear,partofabroadertechpullback.Industryjobcutsandthepopularityofremoteworkisputtingastrainonofficerealestatedemand.MicrosoftofficeleasesinReading,England,expirein2026andweremeanttohavebeenreplacedbythenewLondonoffice,accordingtoReactNews,whichreportedtheofficeplanchangesearlier.MostReadfromBloombergBusinessweekScaramucci’sSkyBridgeCapitalWasSpiraling,andThenCameFTXWhattoDoWithYourMoney—andYourLife—inaWildNewWorldApple’sComplex,SecretiveGambletoMoveBeyondChinaXiJinpingLaunchesaCharmOffensivetoRepairChina’sTatteredImageThankstoPutin,BusinessIsBoomingforGermany’sDefenseContractors©2023BloombergL.P.RelatedQuotes',\n",
              "  \"AlphabetInc\\xa0(NASDAQ:GOOG)(NASDAQ:GOOGL)\\xa0Google\\xa0CEOSundarPichaisharedplanstointegrateconversationalartificialintelligencefeaturesintoits\\xa0flagshipsearchengine.AdvancesinAIwouldsuperchargeGoogle'sabilitytoansweranarrayofsearchqueries,Pichaisaidinan\\xa0interview\\xa0withtheWallStreetJournal.PichaiacknowledgedmoreenormousopportunitiesdismissingreportssuggestingthatchatbotshinderedGoogle'ssearchbusiness,whichaccountsformorethanhalfofrevenue.AlsoRead:\\xa0Alibaba-HuaweiInchCloserToChatGPTCounterpartLikeProduct,LaunchInAprilPichaiproposestotapGoogle'sleadindevelopingcomputerprogramscalledlargelanguagemodels,orLLMs,inthesearchfunction,whichcanprocessandrespondtonatural-languagepromptswithhumanlikeprose.With\\xa0MicrosoftCorp\\xa0(NASDAQ:MSFT)alreadydeployingthetechnologybehindtheChatGPTsysteminitsBingsearchengine,PichaiisdealingwithoneofthebiggestthreatstoGoogle'scorebusinessinyearsashealsofacespressuretocutcosts.InJanuary,Alphabetdiscloseditwouldslash12,000jobsor6%ofstaff.Microsoftexpectstogenerate$2billioninrevenueforeverypercentagepointitgainsinthesearchmarket,ofwhichGooglehasamorethan90%share,WSJwrites.Googleistestingseveralnewsearchproducts,likeversionsthatallowuserstoaskfollow-upquestionstotheiroriginalqueries.GooglehasbeguntestingnewAIfeatureswithinGmailandotherwork-relatedproducts,whileMicrosofthasmovedtoofferAIbeyondBingforuseinsomeofitsbusinesssoftwaretools.PichaisaidGoogleBrainandDeepMindwouldworktogethermorecloselytobuildlargealgorithms\\xa0toimproveBard.LikeMicrosoft,GoogleaimstouseitsinvestmentinAImodelstowinwiderbusiness.Whenaskedwhythecompanydidnotreleaseachatbotearlier,PichaisaidGooglewasstilltryingtofindtherightmarket.PriceAction:\\xa0GOOGsharestradedhigherby2.37%at$107.44onthelastcheckThursday.PhotoviaWikimediaCommonsDon'tmissreal-timealertsonyourstocks-joinBenzingaProforfree!Trythetoolthatwillhelpyouinvestsmarter,faster,andbetter.ThisarticleGoogle'sChatGPTGambit:SundarPichaiAnnouncesAIChatbotforSearchEngineoriginallyappearedonBenzinga.com.©2023Benzinga.com.Benzingadoesnotprovideinvestmentadvice.Allrightsreserved.RelatedQuotes\",\n",
              "  'Withtheeconomyinaslump,andcompanyheadcounthavinggrowingsharplyinrecentyears,themandatetomanagerswastoclampdownonfree-wheelingspending.\"WeneedtohaltthegrowingpracticeofhandingoutrandomT-shirtsandothergoodiesforsimplyattendingarequiredbusinessmeeting,\"thesternly-wordedmemostated.Otherexamplesofexcessincludedcateredlunchesandoversizedteams.\"Everypennycounts,\"andeveryone—fromthoseintheexecutivesuitetofront-linecoders—shouldgetusedtoeating\"weeniesnotshrimp.\"Theyearwas1993,andMicrosofthadreacheditslimitonlavishemployeespendingandrecreation.The\"ShrimpandWeenieGuidelines\"memo,authoredbyMicrosoft\\'sheadofHRatthetime,MikeMurray,becameatouchstoneinthesoftwarecompany\\'shistory,andonewhichhasrenewedresonanceamongtechcompaniestoday.StevenSinfosky,theformerpresidentofMicrosoft\\'sWindowsbusiness,sharedthememoonTwitteronTuesday,notingthesimilaritiestothecurrentstateofaffairs.\"Thesestagesofcutbacksareanaturalevolution,notjustoftechcompaniesbutallcompanies,\"Sinofskynotedinafascinating,must-read15-tweetthread.Financialprudenceistopofmindatmany—ifnotmost—techcompaniestoday.Onlyfourmonthsintothenewyear,554techcompanieshavelaidoffatotalof167,004employees,accordingtoLayoffs.fyi.MetaCEOMarkZuckerbergbranded2023asthecompany’s“YearofEfficiency,”whichincludedmasslayoffsandnixedfreelaundryservices.Salesforce,acompanywhichhaslongreferredtoitsemployeesasafamily,haslaidoffthousandsofemployeesandlowereditsannual\"gratitude\"bonuses.Thechangeshavebeenjarringtoemployeeswhohaven\\'tlivedthroughpreviousdownturns.Techemployeeshavelongenjoyedtheirover-the-topperks,atime-honoredtraditionoffreesnacksandbeanbagswaswhatdrovecomputersciencegradstocompanieslikeMetainthefirstplace—withtheexpectationthattheyworklonghourstoprovideshareholdervalue.Iftheyweregoingtoliveattheoffice,thecompanywouldhavetoenticethemwithpingpong,IPAs,andhighsix-figuresalaries.SalesforceCEOMarcBenioffdescribedthechallengeinaninterviewwithFortune\\'sMichalLev-Ramlastmonth:“It’shardforthem[employees]becausetheydon’tunderstandwhyyou’retakingcertainactionsorhowit’sgoingtoaffectthem,”Benioffsaid.“It’sunderstandablebecausewe’vehadanupmarketformorethanadecade.”AsSinofskyexplainedinhisTwitterthreadonTuesday,',\n",
              "  'AlphabetInc\\xa0(NASDAQ:GOOG)(NASDAQ:GOOGL)\\xa0Google\\xa0onTuesdayelaboratedonthesupercomputersitusestotrainits\\xa0artificialintelligencemodels.Googlesaidthesystemsarefasterandmorepower-efficientthancomparablesystemsfrom\\xa0NvidiaCorp\\xa0(NASDAQ:NVDA),Reuters\\xa0reports.IthasdesigneditscustomchipcalledtheTensorProcessingUnit,orTPUwhichservesmorethan90%ofthecompany\\'sworkonAItraining,feedingdatathroughmodelstorespondtoquerieswithhuman-liketextorgeneratingimages.TheGoogleTPUisnowinitsfourthgeneration.Googledetailedhowithasstrungover4,000chipsintoasupercomputerusingitscustom-developedopticalswitchestohelpconnectindividualmachines.Thecompany\\'s\\xa0Bard\\xa0and\\xa0MicrosoftCorp\\xa0(NASDAQ:MSFT)backed\\xa0OpenAI\\'sChatGPT\\xa0intensifiedcompetitionamongcompaniesthatbuildAIsupercomputersastheso-calledlargelanguagemodelsthatpowerthetechnologieshaveexplodedinsize.Googletraineditslargestpubliclydisclosedlanguagemodeltodate,PaLM,bysplittingitacrosstwoofthe4,000-chipsupercomputersover50days.Googlesaidthatitschipsareupto1.7timesfasterand1.9timesmorepower-efficientforcomparablysizedsystemsthanasystembasedonNvidia\\'sA100chip.GooglehintedatworkingonanewTPUthatwouldcompetewiththeNvidiaH100,withGoogleFellowNormJouppitellingReutersthatGooglehas\"ahealthypipelineoffuturechips.\"InMarch,MicrosoftdisclosedhuntingoutwaystostringtogethertensofthousandsofNvidia\\'s\\xa0A100graphicschips,theworkhorsefortrainingAImodels.OpenAIneededaccesstocompletecloudcomputingservicesforlongperiodsasittriedtotrainanincreasinglylargesetofAIprogramscalledmodels.MicrosoftexecutivevicepresidentScottGuthriesaiditcostMicrosoftoverseveralhundredmilliondollars.ItisalreadyatworkonthenextgenerationoftheAIsupercomputer,partofanexpandeddealwithOpenAIinwhichMicrosoftadded$10billion.MicrosoftisaddingthelatestNvidiagraphicschipforAIworkloads,theH100,andthenewestversionofNvidia\\'sInfinibandnetworkingtechnologytoshare\\xa0dataevenfaster.Don\\'tmissreal-timealertsonyourstocks-joinBenzingaProforfree!Trythetoolthatwillhelpyouinvestsmarter,faster,andbetter.ThisarticleGoogle\\'sBardVs.MicrosoftBackedChatGPT-WhatItTakesToTrainAIoriginallyappearedonBenzinga.com.©2023Benzinga.com.Benzingadoesnotprovideinvestmentadvice.Allrightsreserved.RelatedQuotes']}"
            ]
          },
          "execution_count": 57,
          "metadata": {},
          "output_type": "execute_result"
        }
      ],
      "source": [
        "#Seach and scrape cleaned URLs\n",
        "def scrape_and_process(urls):\n",
        "    ARTICLES = []\n",
        "    for url in urls:\n",
        "        r = requests.get(url)\n",
        "        soup = BeautifulSoup(r.text, 'html.parser')\n",
        "        paragraphs = soup.find_all('p')\n",
        "        text = [paragraph.text for paragraph in paragraphs]\n",
        "        words = ''.join(text).split(' ')[:400]\n",
        "        ARTICLE = ''.join(words)\n",
        "        ARTICLES.append(ARTICLE)\n",
        "    return ARTICLES\n",
        "\n",
        "articles = {ticker:scrape_and_process(cleaned_urls[ticker]) for ticker in monitored_tickers}\n",
        "articles"
      ]
    },
    {
      "cell_type": "code",
      "execution_count": 59,
      "metadata": {
        "colab": {
          "background_save": true,
          "base_uri": "https://localhost:8080/"
        },
        "id": "zCK5ah3MCayX",
        "outputId": "7d8b79cc-30b2-4f18-f34a-0c3343a8e5c1"
      },
      "outputs": [
        {
          "name": "stderr",
          "output_type": "stream",
          "text": [
            "Your max_length is set to 120, but you input_length is only 27. You might consider decreasing max_length manually, e.g. summarizer('...', max_length=13)\n"
          ]
        }
      ],
      "source": [
        "from transformers import pipeline\n",
        "\n",
        "# Define the summarization pipeline\n",
        "summarizer = pipeline(\"summarization\", model=\"facebook/bart-large-cnn\")\n",
        "\n",
        "def summarize_all_articles(articles):\n",
        "    summaries = []\n",
        "    for article in articles:\n",
        "        # Use the summarizer pipeline to generate a summary\n",
        "        summary = summarizer(article, max_length=120, min_length=30, do_sample=False)[0]['summary_text']\n",
        "        summaries.append(summary)\n",
        "    return summaries\n",
        "\n",
        "summaries = {ticker:summarize_all_articles(articles[ticker]) for ticker in monitored_tickers}\n"
      ]
    },
    {
      "cell_type": "code",
      "execution_count": 60,
      "metadata": {
        "colab": {
          "background_save": true
        },
        "id": "Eybfnlj-4dbd"
      },
      "outputs": [],
      "source": [
        "#Calling the sentiment analysis to perform sentiment labelling for the summaries\n",
        "from transformers import pipeline, AutoModelForSequenceClassification, AutoTokenizer\n",
        "model_name = \"distilbert-base-uncased-finetuned-sst-2-english\"\n",
        "model_revision = \"af0f99b\"\n",
        "model = AutoModelForSequenceClassification.from_pretrained(model_name, revision=model_revision)\n",
        "tokenizer = AutoTokenizer.from_pretrained(model_name, revision=model_revision)\n",
        "sentiment = pipeline('sentiment-analysis', model=model, tokenizer=tokenizer)"
      ]
    },
    {
      "cell_type": "code",
      "execution_count": 61,
      "metadata": {
        "colab": {
          "background_save": true
        },
        "id": "Dmzs1-yqcVuI",
        "outputId": "98a7f91c-2e5d-43df-a836-4299a9827a8e"
      },
      "outputs": [
        {
          "name": "stdout",
          "output_type": "stream",
          "text": [
            "\n",
            "Sentiment analysis for MSFT:\n",
            "1. Summary: The United States and MicrosoftCorpreachedasettlementon Thursday. Microsofthasagreedtoremitabout $3milliontosettleitspotentialcivilliabilityformorethan1,300apparentsanctionsviolations. Microsoft's conduct was \"non-egregious andvoluntarilyself-disclosed,\" Treasury said.\n",
            "   Score: 0.9917056560516357, Label: NEGATIVE\n",
            "2. Summary: MicrosoftshutdownclassicgameemulationontheXboxSeriesX/Son April6. TheysaidtheynowhadnochoicebuttotagXboxandMicrosoftGamingCEOPhilSpenceron Twitter.\n",
            "   Score: 0.9874457120895386, Label: NEGATIVE\n",
            "3. Summary: YahooFinanceiszoominginonshares ofspeculativeandbuzzy AInames. Therearethreethingsinvestors could havebankedonoverthe lastfivetradingsessions.\n",
            "   Score: 0.9947439432144165, Label: NEGATIVE\n",
            "4. Summary: Microsoft pouredbillions intoChatGPTdeveloperOpenAI. The techgiant is now adding the technology to everything fromitsDynamics365 toOffice365,and,of course,Bing.\n",
            "   Score: 0.6947991251945496, Label: POSITIVE\n",
            "5. Summary: U.K. digitalregulator Ofcom decidestoreferthemarkettotheCompetitionandMarketsAuthorityforfurtherinvestigationafterdiscoveringobjectionablepracticesbytheinfluential cloudserviceproviders. Ofcomflagged theexorbitantegressfees,technicalrestrictionsoninteroperability,andcommittedspenddiscounts by the firms.\n",
            "   Score: 0.9971476197242737, Label: NEGATIVE\n",
            "7. Summary: Microsoft’s 365 productivitysuite is called Microsoft365Copilot. The feature is designedtoserveasakindofon-handexperttohelpyouspeedupyourproductivity.\n",
            "   Score: 0.9937000274658203, Label: NEGATIVE\n",
            "8. Summary: MicrosoftCorp.isabandoningplansforanewofficecomplexin London. The Redmond, Washington-based company in January saidit wouldcut itsworkforceby5%this year.\n",
            "   Score: 0.999188244342804, Label: NEGATIVE\n",
            "9. Summary: Google's chatGPT system will offer conversational AI features. ChatGPT is Google's answer to Microsoft's Chatbot. GOOG share traded higher by 2.37% Thursday.\n",
            "   Score: 0.9895949363708496, Label: NEGATIVE\n",
            "10. Summary: The \"ShrimpandWeenieGuidelines\"memo,authored byMicrosoft'sheadofHR, becameatouchstoneinthesoftwarecompany's history. Withtheeconomyinaslump,andcompanyheadcounthavinggrowingsharplyinrecentyears, themandatetomanagerswastoclampdownonfree-wheelingspending.\n",
            "   Score: 0.9977769255638123, Label: NEGATIVE\n",
            "11. Summary: Googlesaidthesystemsarefasterandmorepower-efficientthancomparablesystems from N NvidiaCorp. The company's Bard and MicrosoftCorp'sbackedChatGPT-WhatItTakesToTrainAI.\n",
            "   Score: 0.952090859413147, Label: NEGATIVE\n",
            "\n",
            "The model finds that stock MSFT is not doing well currently. We recommend that you don't buy for short holding.\n"
          ]
        }
      ],
      "source": [
        "# Adding stop words and phrases\n",
        "stop_words = ['Ourengineersareworkingquicklytoresolvetheissue. Thankyouforyourpatience. Back to Mail Online home. back to the page you came from.', '2023-私隱權政策-條款. ©2023. www.japanewspaper.com']\n",
        "\n",
        "# Adding Sentiment Analysis to give a Negative/Positive score\n",
        "# -VE means the market is not good for the product\n",
        "# +VE means the market is good for the product/investment\n",
        "scores = {\n",
        "    ticker: sentiment(summaries[ticker])\n",
        "    for ticker in monitored_tickers\n",
        "}\n",
        "for ticker in scores:\n",
        "    print(f\"\\nSentiment analysis for {ticker}:\")\n",
        "    for i, score in enumerate(scores[ticker]):\n",
        "        summary = summaries[ticker][i]\n",
        "        if any(word in summary for word in stop_words) or re.match(r'^\\s*$', summary):\n",
        "            continue  # Skip if the sentiment contains stop words or phrases, or is blank\n",
        "        print(f\"{i+1}. Summary: {summary}\")\n",
        "        print(f\"   Score: {score['score']}, Label: {score['label']}\")\n",
        "    negative_count = sum(\n",
        "        1 for score in scores[ticker] if score['label'] == 'NEGATIVE'\n",
        "    )\n",
        "    if negative_count > 5:\n",
        "        print(f\"\\nThe model finds that stock {ticker} is not doing well currently. We recommend that you don't buy for short holding.\")\n",
        "    elif negative_count == 5:\n",
        "        print(f\"\\nThe model generates a neutral view on stock {ticker}, further research is needed: Bloomberg / Expedia refinement.\")\n",
        "    elif negative_count < 5:\n",
        "        print(f\"\\nThe model finds that stock {ticker} is good to buy for the short term. Contact our brokers to buy.\")\n"
      ]
    },
    {
      "attachments": {},
      "cell_type": "markdown",
      "metadata": {
        "id": "yH4R9mY42SVB"
      },
      "source": [
        "This slice is for exporting a summary"
      ]
    },
    {
      "cell_type": "code",
      "execution_count": 62,
      "metadata": {
        "colab": {
          "background_save": true
        },
        "id": "RapdL_cbufzY",
        "outputId": "6ae3b3f8-24c3-40d5-e547-2f098dba9a9c"
      },
      "outputs": [
        {
          "data": {
            "text/plain": [
              "[['MSFT',\n",
              "  \"Googlesaidthesystemsarefasterandmorepower-efficientthancomparablesystems from\\xa0N NvidiaCorp. The company's\\xa0Bard and MicrosoftCorp'sbackedChatGPT-WhatItTakesToTrainAI.\",\n",
              "  {'label': 'NEGATIVE', 'score': 0.952090859413147},\n",
              "  'https://finance.yahoo.com/news/googles-bard-vs-microsoft-backed-140424897.html']]"
            ]
          },
          "execution_count": 62,
          "metadata": {},
          "output_type": "execute_result"
        }
      ],
      "source": [
        "#Step-1 is to summarize the blueprint labels for the CSV\n",
        "#show why the previous tinker is not good to buy\n",
        "#Fix APPL error\n",
        "def create_output_array(summaries, scores, urls):\n",
        "  output = []\n",
        "  for ticker in monitored_tickers:\n",
        "    for counter in range(len(summaries[ticker])):\n",
        "      output_this = [\n",
        "      ticker,\n",
        "      summaries[ticker][counter],\n",
        "      scores[ticker][counter],\n",
        "      urls[ticker][counter],\n",
        "    ]\n",
        "    output.append(output_this)\n",
        "  return output\n",
        "\n",
        "final_output = create_output_array(summaries,scores,cleaned_urls)\n",
        "final_output"
      ]
    },
    {
      "cell_type": "code",
      "execution_count": 63,
      "metadata": {
        "colab": {
          "background_save": true
        },
        "id": "X_sdyfAtcZkH"
      },
      "outputs": [],
      "source": [
        "#Exporting the results\n",
        "#TOCO--> Fix the csv output\n",
        "final_output.insert(0, ['Ticker', 'Summary', 'Label', 'Confidence', 'Url'])\n",
        "import csv\n",
        "with open('assetsummaries.csv', mode='w', newline='') as f:\n",
        "  csv_writer = csv.writer(f, delimiter = ',', quotechar = '\"', quoting = csv.QUOTE_MINIMAL)\n",
        "  csv_writer.writerows(final_output)"
      ]
    }
  ],
  "metadata": {
    "colab": {
      "provenance": []
    },
    "gpuClass": "standard",
    "kernelspec": {
      "display_name": "Python 3",
      "name": "python3"
    },
    "language_info": {
      "codemirror_mode": {
        "name": "ipython",
        "version": 3
      },
      "file_extension": ".py",
      "mimetype": "text/x-python",
      "name": "python",
      "nbconvert_exporter": "python",
      "pygments_lexer": "ipython3",
      "version": "3.10.6"
    }
  },
  "nbformat": 4,
  "nbformat_minor": 0
}
