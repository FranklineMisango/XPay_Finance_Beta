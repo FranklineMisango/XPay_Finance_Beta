{
  "cells": [
    {
      "cell_type": "markdown",
      "metadata": {
        "id": "RNWlhDHZI60l"
      },
      "source": [
        "#This project encompasses the LimeLocale's Finance API beta official AI that assists the team in Research in Stock health per company all over the world\n",
        "\n",
        "#As a starting step, It currently automates the Team's research on Stock and Crypto in China's GBA\n",
        "#TODO-Measure the accuracy of the model\n"
      ]
    },
    {
      "cell_type": "code",
      "execution_count": 1,
      "metadata": {
        "id": "Mi9OnOf0IQKf"
      },
      "outputs": [
        {
          "name": "stderr",
          "output_type": "stream",
          "text": [
            "2023-04-07 18:56:33.007674: I tensorflow/tsl/cuda/cudart_stub.cc:28] Could not find cuda drivers on your machine, GPU will not be used.\n",
            "2023-04-07 18:56:33.044656: I tensorflow/tsl/cuda/cudart_stub.cc:28] Could not find cuda drivers on your machine, GPU will not be used.\n",
            "2023-04-07 18:56:33.045516: I tensorflow/core/platform/cpu_feature_guard.cc:182] This TensorFlow binary is optimized to use available CPU instructions in performance-critical operations.\n",
            "To enable the following instructions: AVX2 FMA, in other operations, rebuild TensorFlow with the appropriate compiler flags.\n",
            "2023-04-07 18:56:33.796379: W tensorflow/compiler/tf2tensorrt/utils/py_utils.cc:38] TF-TRT Warning: Could not find TensorRT\n",
            "/home/misango/.local/lib/python3.10/site-packages/tqdm/auto.py:21: TqdmWarning: IProgress not found. Please update jupyter and ipywidgets. See https://ipywidgets.readthedocs.io/en/stable/user_install.html\n",
            "  from .autonotebook import tqdm as notebook_tqdm\n"
          ]
        }
      ],
      "source": [
        "#Baseline_Setup_and_dependencies\n",
        "#Pegasus Tokenizer, NLP for summarization\n",
        "#BS4 scraps the web for news\n",
        "import sentencepiece\n",
        "import tensorflow\n",
        "import requests\n",
        "import re\n",
        "import tensorflow\n",
        "from transformers import PegasusTokenizer,PegasusForConditionalGeneration, TFPegasusForConditionalGeneration\n",
        "from bs4 import BeautifulSoup\n",
        "from transformers import pipeline\n"
      ]
    },
    {
      "cell_type": "code",
      "execution_count": 2,
      "metadata": {
        "id": "PXZTunCGKM-v"
      },
      "outputs": [
        {
          "data": {
            "text/plain": [
              "'\\nfrom transformers import AutoTokenizer, AutoModelForSeq2SeqLM\\ntokenizer = AutoTokenizer.from_pretrained(\"human-centered-summarization/financial-summarization-pegasus\")\\nmodel = AutoModelForSeq2SeqLM.from_pretrained(\"human-centered-summarization/financial-summarization-pegasus\")\\n'"
            ]
          },
          "execution_count": 2,
          "metadata": {},
          "output_type": "execute_result"
        }
      ],
      "source": [
        "#Loading and saving the summarization models  from the Hugging face model\n",
        "\n",
        "model_name = \"human-centered-summarization/financial-summarization-pegasus\"\n",
        "tokenizer = PegasusTokenizer.from_pretrained(model_name)\n",
        "model = PegasusForConditionalGeneration.from_pretrained(model_name)\n",
        "\n",
        "'''\n",
        "from transformers import AutoTokenizer, AutoModelForSeq2SeqLM\n",
        "tokenizer = AutoTokenizer.from_pretrained(\"human-centered-summarization/financial-summarization-pegasus\")\n",
        "model = AutoModelForSeq2SeqLM.from_pretrained(\"human-centered-summarization/financial-summarization-pegasus\")\n",
        "'''"
      ]
    },
    {
      "cell_type": "markdown",
      "metadata": {
        "id": "CVkISLxDpOd4"
      },
      "source": [
        "This Code slices focus on the Automation of more than one stock symbol"
      ]
    },
    {
      "cell_type": "code",
      "execution_count": 4,
      "metadata": {
        "colab": {
          "base_uri": "https://localhost:8080/"
        },
        "id": "PD9YBDbqPscL",
        "outputId": "c75aa6db-bab3-4e7c-9e48-81f27d72f5ac"
      },
      "outputs": [
        {
          "data": {
            "text/plain": [
              "{'TSLA': ['/?sa=X&ved=0ahUKEwjFjYTHz5f-AhVZNsAKHW4lCDYQOwgC',\n",
              "  '/search?q=yahoo+finance+TSLA&tbm=nws&ie=UTF-8&gbv=1&sei=dPgvZMWDJNnsgAbuyqCwAw',\n",
              "  '/search?q=yahoo+finance+TSLA&ie=UTF-8&source=lnms&sa=X&ved=0ahUKEwjFjYTHz5f-AhVZNsAKHW4lCDYQ_AUIBSgA',\n",
              "  '/search?q=yahoo+finance+TSLA&ie=UTF-8&tbm=isch&source=lnms&sa=X&ved=0ahUKEwjFjYTHz5f-AhVZNsAKHW4lCDYQ_AUIBygC',\n",
              "  'https://maps.google.com/maps?q=yahoo+finance+TSLA&um=1&ie=UTF-8&sa=X&ved=0ahUKEwjFjYTHz5f-AhVZNsAKHW4lCDYQ_AUICCgD',\n",
              "  '/search?q=yahoo+finance+TSLA&ie=UTF-8&tbm=vid&source=lnms&sa=X&ved=0ahUKEwjFjYTHz5f-AhVZNsAKHW4lCDYQ_AUICSgE',\n",
              "  '/search?q=yahoo+finance+TSLA&ie=UTF-8&tbm=shop&source=lnms&sa=X&ved=0ahUKEwjFjYTHz5f-AhVZNsAKHW4lCDYQ_AUICigF',\n",
              "  '/search?q=yahoo+finance+TSLA&ie=UTF-8&tbm=bks&source=lnms&sa=X&ved=0ahUKEwjFjYTHz5f-AhVZNsAKHW4lCDYQ_AUICygG',\n",
              "  '/advanced_search',\n",
              "  '/search?q=yahoo+finance+TSLA&ie=UTF-8&tbm=nws&source=lnt&tbs=lr:lang_1zh-CN%7Clang_1zh-TW&lr=lang_zh-CN%7Clang_zh-TW&sa=X&ved=0ahUKEwjFjYTHz5f-AhVZNsAKHW4lCDYQpwUIDQ',\n",
              "  '/search?q=yahoo+finance+TSLA&ie=UTF-8&tbm=nws&source=lnt&tbs=lr:lang_1zh-TW&lr=lang_zh-TW&sa=X&ved=0ahUKEwjFjYTHz5f-AhVZNsAKHW4lCDYQpwUIDg',\n",
              "  '/search?q=yahoo+finance+TSLA&ie=UTF-8&tbm=nws&source=lnt&tbs=qdr:h&sa=X&ved=0ahUKEwjFjYTHz5f-AhVZNsAKHW4lCDYQpwUIEA',\n",
              "  '/search?q=yahoo+finance+TSLA&ie=UTF-8&tbm=nws&source=lnt&tbs=qdr:d&sa=X&ved=0ahUKEwjFjYTHz5f-AhVZNsAKHW4lCDYQpwUIEQ',\n",
              "  '/search?q=yahoo+finance+TSLA&ie=UTF-8&tbm=nws&source=lnt&tbs=qdr:w&sa=X&ved=0ahUKEwjFjYTHz5f-AhVZNsAKHW4lCDYQpwUIEg',\n",
              "  '/search?q=yahoo+finance+TSLA&ie=UTF-8&tbm=nws&source=lnt&tbs=qdr:m&sa=X&ved=0ahUKEwjFjYTHz5f-AhVZNsAKHW4lCDYQpwUIEw',\n",
              "  '/search?q=yahoo+finance+TSLA&ie=UTF-8&tbm=nws&source=lnt&tbs=qdr:y&sa=X&ved=0ahUKEwjFjYTHz5f-AhVZNsAKHW4lCDYQpwUIFA',\n",
              "  '/search?q=yahoo+finance+TSLA&ie=UTF-8&tbm=nws&source=lnt&tbs=ar:1&sa=X&ved=0ahUKEwjFjYTHz5f-AhVZNsAKHW4lCDYQpwUIFQ',\n",
              "  '/search?q=yahoo+finance+TSLA&ie=UTF-8&tbm=nws&source=lnt&tbs=sbd:1&sa=X&ved=0ahUKEwjFjYTHz5f-AhVZNsAKHW4lCDYQpwUIFw',\n",
              "  '/url?q=https://finance.yahoo.com/news/1-tesla-cuts-prices-us-051344969.html&sa=U&ved=2ahUKEwjFjYTHz5f-AhVZNsAKHW4lCDYQxfQBegQICBAC&usg=AOvVaw0eknMNYaT-3K5jJj0bCFp6',\n",
              "  '/url?q=https://uk.finance.yahoo.com/news/3-reasons-m-watching-tesla-110011915.html&sa=U&ved=2ahUKEwjFjYTHz5f-AhVZNsAKHW4lCDYQxfQBegQICRAC&usg=AOvVaw1V8vlDDopiAMc3ufcNdLS0',\n",
              "  '/url?q=https://finance.yahoo.com/news/ev-roundup-tsla-q1-deliveries-141002509.html&sa=U&ved=2ahUKEwjFjYTHz5f-AhVZNsAKHW4lCDYQxfQBegQIBRAC&usg=AOvVaw1uMJzFC9QFj3mmNM5BDLIV',\n",
              "  '/url?q=https://finance.yahoo.com/news/tesla-lays-five-proposals-annual-205736683.html&sa=U&ved=2ahUKEwjFjYTHz5f-AhVZNsAKHW4lCDYQxfQBegQIABAC&usg=AOvVaw1jcSOMl56K41k2wMQMLPhP',\n",
              "  '/url?q=https://finance.yahoo.com/news/tesla-iron-based-batteries-semi-200347655.html&sa=U&ved=2ahUKEwjFjYTHz5f-AhVZNsAKHW4lCDYQxfQBegQIBhAC&usg=AOvVaw2X-Eb2jiJKOM39HNChKyqe',\n",
              "  '/url?q=https://finance.yahoo.com/news/special-report-tesla-workers-shared-135329460.html&sa=U&ved=2ahUKEwjFjYTHz5f-AhVZNsAKHW4lCDYQxfQBegQIAxAC&usg=AOvVaw3C_IS0rJUhmS_49DfQMcaS',\n",
              "  '/url?q=https://finance.yahoo.com/news/everybodys-getting-into-the-ev-game-edmunds-185003513.html&sa=U&ved=2ahUKEwjFjYTHz5f-AhVZNsAKHW4lCDYQxfQBegQIARAC&usg=AOvVaw2o_qEGBF7iLrfULZg1Q-0w',\n",
              "  '/url?q=https://au.finance.yahoo.com/news/tesla-china-boss-tom-zhu-034428650.html&sa=U&ved=2ahUKEwjFjYTHz5f-AhVZNsAKHW4lCDYQxfQBegQIAhAC&usg=AOvVaw2nuPAR5TZjqhF4CJQ4pNF1',\n",
              "  '/url?q=https://finance.yahoo.com/news/ford-ceo-tesla-is-going-to-see-more-price-competition-in-the-ev-market-154750743.html&sa=U&ved=2ahUKEwjFjYTHz5f-AhVZNsAKHW4lCDYQxfQBegQIBxAC&usg=AOvVaw2YVjNcmKxMf1dEk80lNOGM',\n",
              "  '/url?q=https://finance.yahoo.com/news/forget-tesla-biggest-tech-opportunities-220000980.html&sa=U&ved=2ahUKEwjFjYTHz5f-AhVZNsAKHW4lCDYQxfQBegQIBBAC&usg=AOvVaw1MZ0xbRLC-0-lPOojhk0Gf',\n",
              "  '/search?q=yahoo+finance+TSLA&ie=UTF-8&tbm=nws&ei=dPgvZMWDJNnsgAbuyqCwAw&start=10&sa=N',\n",
              "  '/url?q=https://support.google.com/websearch%3Fp%3Dws_settings_location%26hl%3Dzh-HK&sa=U&ved=0ahUKEwjFjYTHz5f-AhVZNsAKHW4lCDYQty4IVg&usg=AOvVaw2NTkB3KrLXeTHg480n0j9q',\n",
              "  '/url?q=https://accounts.google.com/ServiceLogin%3Fcontinue%3Dhttps://www.google.com/search%253Fq%253Dyahoo%252Bfinance%252BTSLA%2526tbm%253Dnws%26hl%3Dzh-TW&sa=U&ved=0ahUKEwjFjYTHz5f-AhVZNsAKHW4lCDYQxs8CCFc&usg=AOvVaw0A_0lgYBdHvXlI3y6BCd6i',\n",
              "  'https://www.google.com/preferences?hl=zh-HK&fg=1&sa=X&ved=0ahUKEwjFjYTHz5f-AhVZNsAKHW4lCDYQ5fUCCFg',\n",
              "  'https://policies.google.com/privacy?hl=zh-HK&fg=1',\n",
              "  'https://policies.google.com/terms?hl=zh-HK&fg=1',\n",
              "  '/setprefs?hl=zh-TW&prev=https://www.google.com/search?q%3Dyahoo%2Bfinance%2BTSLA%26tbm%3Dnws%26pccc%3D1&sig=0_ampUWP-6D7NkT7LRYnEoBY1374k%3D&cs=2&sa=X&ved=0ahUKEwjFjYTHz5f-AhVZNsAKHW4lCDYQjcAJCFk']}"
            ]
          },
          "execution_count": 4,
          "metadata": {},
          "output_type": "execute_result"
        }
      ],
      "source": [
        "#Building a News and Sentiment Pipleline\n",
        "#Test with company stock names --Edited to user preference\n",
        "#The model asks which tinkers you wanna monitor and how much\n",
        "#You can also edit the search URL to use expedia or Bloomberg finance\n",
        "#Search for stock news using Google and Yahoo Finance\n",
        "#TODO--> Figure out how to allow a universal Web scrapping instead of relying solely on Yahoo finance. ie investopedia, Bloomberg LP etc\n",
        "def search_for_stock_news_urls(ticker):\n",
        "  search_url = f\"https://www.google.com/search?q=yahoo+finance+{ticker}&tbm=nws\"\n",
        "  r = requests.get(search_url)\n",
        "  soup = BeautifulSoup(r.text, 'html.parser')\n",
        "  atags = soup.find_all('a')\n",
        "  hrefs = [link['href'] for link in atags]\n",
        "  return hrefs\n",
        "\n",
        "num_tickers = int(input(\"Enter the number of stock tickers you want to monitor: \"))\n",
        "monitored_tickers = []\n",
        "for i in range(num_tickers):\n",
        "  ticker = input(f\"Enter the company ticker {i+1}: \")\n",
        "  monitored_tickers.append(ticker)\n",
        "\n",
        "raw_urls = {ticker: search_for_stock_news_urls(ticker) for ticker in monitored_tickers}\n",
        "raw_urls"
      ]
    },
    {
      "cell_type": "code",
      "execution_count": 5,
      "metadata": {
        "colab": {
          "base_uri": "https://localhost:8080/"
        },
        "id": "WMtE00W8CT1n",
        "outputId": "915fae94-9b8b-4bfe-df9a-14f68666a66e"
      },
      "outputs": [
        {
          "data": {
            "text/plain": [
              "{'TSLA': ['https://finance.yahoo.com/news/forget-tesla-biggest-tech-opportunities-220000980.html',\n",
              "  'https://au.finance.yahoo.com/news/tesla-china-boss-tom-zhu-034428650.html',\n",
              "  'https://finance.yahoo.com/news/special-report-tesla-workers-shared-135329460.html',\n",
              "  'https://uk.finance.yahoo.com/news/3-reasons-m-watching-tesla-110011915.html',\n",
              "  'https://finance.yahoo.com/news/everybodys-getting-into-the-ev-game-edmunds-185003513.html',\n",
              "  'https://finance.yahoo.com/news/ford-ceo-tesla-is-going-to-see-more-price-competition-in-the-ev-market-154750743.html',\n",
              "  'https://finance.yahoo.com/news/tesla-lays-five-proposals-annual-205736683.html',\n",
              "  'https://finance.yahoo.com/news/tesla-iron-based-batteries-semi-200347655.html',\n",
              "  'https://finance.yahoo.com/news/1-tesla-cuts-prices-us-051344969.html',\n",
              "  'https://www.google.com/search?q%3Dyahoo%2Bfinance%2BTSLA%26tbm%3Dnws%26pccc%3D1',\n",
              "  'https://finance.yahoo.com/news/ev-roundup-tsla-q1-deliveries-141002509.html']}"
            ]
          },
          "execution_count": 5,
          "metadata": {},
          "output_type": "execute_result"
        }
      ],
      "source": [
        "#Strip out the unwanted URLs--> policies,accounts, preferences etc\n",
        "excluded_list = ['maps', 'policies', 'preferences', 'support', 'accounts']\n",
        "def strip_unwanted_urls(urls, excluded_list):\n",
        "    final_val = []\n",
        "    for url in urls:\n",
        "        if 'https://' in url and not any(excluded_word in url for excluded_word in excluded_list):\n",
        "            res = re.findall(r'(https?://\\S+)', url)[0].split('&')[0]\n",
        "            final_val.append(res)\n",
        "    return list(set(final_val))\n",
        "\n",
        "cleaned_urls = {ticker:strip_unwanted_urls(raw_urls[ticker], excluded_list) for ticker in monitored_tickers}\n",
        "cleaned_urls\n"
      ]
    },
    {
      "cell_type": "code",
      "execution_count": 6,
      "metadata": {
        "colab": {
          "base_uri": "https://localhost:8080/"
        },
        "id": "yqWhNl48CUvs",
        "outputId": "af0ee685-a215-471e-9cc1-aafde1baa7c5"
      },
      "outputs": [
        {
          "data": {
            "text/plain": [
              "{'TSLA': ['Thetechmarkethasyettobottomout,andinvestorsshouldbeavoidingthemega-capsatallcosts,butthereareemergingstarsfromAIandgamingtosemiconductorsthatunderpinthenewtechtrends–andthey’reundervalued,notovervalued.Tesla(NASDAQ:TSLA)istanking.Inthepast12months,thestockhasshednearly30%,withElonMusktryingtoexplainawaythenosediveformonths.Thetechmarketisaseaofredrightnow,andit’sdraggingWallStreetdownwithit.Shopify(NYSE:SHOP)haslostnearly42%inthepastyear.Coinbase(NASDAQ:COIN)hastankednearly70%inthesametimeperiod.EvenMeta(NASDAQ:META)hasshedalmost20%.Thisisnowatimeofreflection,whereinvestorsshouldbelookingdeeperintothelessobviouscornersofthetechworld,wherebrilliantthingsarebeingaccomplished,andwherevaluationsarestillverylow.Thereisonlydownsideinthemega-captechstocks,butweseeallkindsofupsideinsomelesser-knownstocksintheAI,gaming,andsemiconductorplayingfields.#1ChatbotGPTtrailblazerBigBear.ai(NYSE:BBAI)ChatbotGPTisthehottestAIbuzzwordrightnow,andanysoftwarecompanyassociatedwithithasbeensurfingthesetailwinds.ChatbotGPTitselfisprivatelyownedandreachedsome100millionmonthlyactiveusersinJanuary–onlytwomonthsafteritlaunched.Thatmakesitthefastest-growingconsumerapplicationintheworld–inhistory.MicrosofthasdumpedbillionsofdollarsintoOpenAI’sChatGPT,andthatfacthasledinvestorstostartscramblingforanycompanythatisworkingonAItech.BigBear.aiisoneofthem,andit’supover300%year-to-date.AnemergingleaderinAIanalyticsandcyberengineeringsolutions,BigBearisoneofthemostexcitingstocksinaspacethathasovertakenthecryptocraze.Thisnewentrantisstillinthered.Whileit’sbeengrowingitsrevenuebase,withupto$170millionprojectedfor2022,earningsclosedoutQ3lastyearwith$16millioninnetlosses.Butwhatinvestorsarelookingatiswhatcomesnext…OneofthekeyattractionsforinvestorsinrecentdaysandweekshasbeenBigBear’s$900-millioncontractwiththeU.S.AirForce,announcedinJanuary.Otherstocksinthisspacethathavealsobeenriding2023’sAIcrazeincludeSoundHound(NASDAQ:SOUN)andC3.ai(NYSE:AI),\\xa0thelatterofwhichhasgainedover100%sofarthisyear.#2EnthusiastGaming(NASDAQ:EGLX),#1intheU.S.foruniquevisitorsthisyearOnlinegamingisanother',\n",
              "  \"ChinahasbeenamajorsalesdriverforTeslainrecenttimes,thankstothecompany'saggressivepricecuts.Thecountrydelivered88,869vehiclesinMarch,accordingtofreshestimatesfromtheChinaPassengerCarAssociation.Thatmeansmorethanhalfofthecarmaker'sQ1deliveriesoriginatedfromitsShanghaifactory.TeslaQ1deliveriesbeatexpectationsasChinahelpsboostsalesIt'snosurprisethenthatTomZhu,theexecutivebehindTesla'sriseinChina,hasquicklyclimbedthroughthecompany'scorporateladderinrecentyears.ZhubeganservingastheseniorvicepresidentofTesla'sautomotiveunitinApril,showsanewSECfiling.TheappointmentmakestheexecutiveoneofthefourmostimportantfacesattheelectricvehiclepowerhousealongsideCEOElonMusk,CFOZacharyKirkhornandAndrewBaglino,SVPofpowertrainandenergyengineering.Accordingtothefiling,ZhujoinedTeslain2014andservedinvariousoperationalrolesbeforebeingnamedvicepresidentofGreaterChina,whereheledtheconstructionandoperationsofGigafactoryShanghai.Asthefirm'sChinaproductionwentintofullswing,the43-year-oldexecutivewasbroughttoTexastorunthenewGigafactoryinAustin,BloombergreportedinDecember.ThesuccessofTesla'sChinafactorydidn'tcomeeasily.LikeMusk,Zhuisknownforpeachingahardcoreworkethic.DuringShanghai'sCOVID-19lockdown,hesleptinthefactorywithotherworkerstokeepproductionrunning,accordingtoaReutersreport.TeslahopesChinabosswillbringsecretsaucetoGigafactoryTexasTheworld'srichestpeoplesawtheirwealthplummetby$200million,buttheircombinedworthisstillinthetrillions.Canyouguesswhotoppedthelist?(Bloomberg)--RajivJain,oneofthebiggestnamesinemerging-marketinvesting,cutacrossthegrainlastmonthwhenheboughtalmost$2billionworthofAdaniGroupstock.MostReadfromBloombergWarnerBros.NearsDealforHarryPotterOnlineTVSeriesUBSChairman’sTop-SecretPrepPaidOffinCreditSuisseMomentChina’sYuanReplacesDollarasMostTradedCurrencyinRussiaBernardArnault’sFortuneSoarsPast$200BillionforFirstTimeChicagoElectsTaxProponent,ProgressiveJohnsonasMaMillionsofAussieswillbeforkingoutthousandsofdollarsmoreontheirhomeloaninthecomingmonths.Here’showyoucansoftentheblow.TheReserveBankgovernorhadsomechoicewordsforAussiesnotgettinggoodsavingsrates.DebtfromcollapsedeastcoastconstructioncompanyPBSBuildinghassoaredpast$60million,accordingto\",\n",
              "  \"BySteveStecklow,WaylonCunninghamandHyunjooJinLONDON/SANFRANCISCO(Reuters)-TeslaIncassuresitsmillionsofelectriccarownersthattheirprivacy“isandwillalwaysbeenormouslyimportanttous.”Thecamerasitbuildsintovehiclestoassistdriving,itnotesonitswebsite,are“designedfromthegrounduptoprotectyourprivacy.”Butbetween2019and2022,groupsofTeslaemployeesprivatelysharedviaaninternalmessagingsystemsometimeshighlyinvasivevideosandimagesrecordedbycustomers’carcameras,accordingtointerviewsbyReuterswithnineformeremployees.SomeoftherecordingscaughtTeslacustomersinembarrassingsituations.Oneex-employeedescribedavideoofamanapproachingavehiclecompletelynaked.Alsoshared:crashesandroad-rageincidents.Onecrashvideoin2021showedaTesladrivingathighspeedinaresidentialareahittingachildridingabike,accordingtoanotherex-employee.Thechildflewinonedirection,thebikeinanother.ThevideospreadaroundaTeslaofficeinSanMateo,California,viaprivateone-on-onechats,“likewildfire,”theex-employeesaid.Otherimagesweremoremundane,suchaspicturesofdogsandfunnyroadsignsthatemployeesmadeintomemesbyembellishingthemwithamusingcaptionsorcommentary,beforepostingtheminprivategroupchats.Whilesomepostingswereonlysharedbetweentwoemployees,otherscouldbeseenbyscoresofthem,accordingtoseveralex-employees.Teslastatesinitsonline“CustomerPrivacyNotice”thatits“camerarecordingsremainanonymousandarenotlinkedtoyouoryourvehicle.”ButsevenformeremployeestoldReutersthecomputerprogramtheyusedatworkcouldshowthelocationofrecordings–whichpotentiallycouldrevealwhereaTeslaownerlived.Oneex-employeealsosaidthatsomerecordingsappearedtohavebeenmadewhencarswereparkedandturnedoff.Severalyearsago,Teslawouldreceivevideorecordingsfromitsvehiclesevenwhentheywereoff,ifownersgaveconsent.Ithassincestoppeddoingso.“Wecouldseeinsidepeople'sgaragesandtheirprivateproperties,”saidanotherformeremployee.“Let'ssaythataTeslacustomerhadsomethingintheirgaragethatwasdistinctive,youknow,peoplewouldpostthosekindsofthings.”Tesladidn'trespondtodetailedquestionssenttothecompanyforthisreport.Aboutthreeyearsago,someemployeesstumbleduponandsharedavideoofauniquesubmersiblevehicleparkedinsideagarage,accordingtotwopeoplewhoviewedit.Nicknamed“Wet\",\n",
              "  'HowtomanageyourfinancesamidrisinginterestratesandinflationTesla(NASDAQ:TSLA)stockhasbeenafavouriteofinvestorsforanumberofyears,frequentlyleadingthemarketintradingactivity.Thestockisup81%in2023,asinvestorshopedtheworstwasoverforinflation,risinginterestrates,andahostofotherissues.Asalong-termshareholderinTesla,I’veseenhowthestockcanperformingoodtimesandbad.ManyfearthatTeslastockisoverhyped,leadingtoanexcessiveprice-to-earnings(P/E)ratioof52.ThisisdifficulttodisputewhencomparedtorivalGMat5.7times,andFordat4.6times.Duetosteepgrowthrates,analysingcompanieslikeTeslacanbechallenging.Adiscountedcash-flowcalculationsuggeststheTeslastockpriceof$207.46is34%abovefairvalueof$154.78.However,Iprefertofocusontheperformanceofthecompanyitself.IhavethreekeyreasonswhyI’mexcitedforwhatTeslahasinstore.Teslaisnaturallysynonymouswithelectricvehicles(EVs).However,oneofmyfavouritefeaturestoseewithacompanyisagrowingproductlineacrossdiversesectors.TeslaboastsEVmanufacturing,energygeneration,batteries,insurance,robotics,andAIascurrentandpotentialincomestreams.Manyareasareintheearlystagesofdevelopment,butlookpromising.Bydevelopinghigh-qualityproducts,solvingsomeofthegreatestchallengesweface,suchasclimatechangeandenergysecurity,Teslaclearlyhasenormousuntappedcustomerbases.Asthecostofproductiondeclines,andmanufacturingcapacitygrowsatincrediblepace,thefuturelooksgood.It’sclearthatEVsaregoingtoplayahugepartinthefutureoftransport.Almostalllegacyautomakersaremakingthisshift,butTeslahasakeyadvantage.Ratherthanadapting,thecompanyhasbeenexecutingsincedayone.Factoriesareconsequentlystreamlinedandpurpose-builtforEVs.Teamsarehighlyskilled,andtheglobalinfrastructureisgrowingrapidly.Teslarecentlyannouncedithaddeliveredarecord-breaking422,875vehiclesinthefirstquarteralone.Thisstrategyhasledtoincredibleeconomiesofscale,andflexibilityinpricing.Asinflationrose,Teslaoptedtocutprices.WithdemandforEVssoaring,andplentifulgovernmentincentivesmakingthesemoreaffordable,choosingTeslaoverafossilfuelvehicleisincreasinglyappealing.TherearefewgrowthstockswithTesla’slevelofenthusiasm.Investoreventshaveapartyatmosphere,andTesla’scontroversialCEOElonMuskismorecelebritythanthehead',\n",
              "  'Onceuponatime,Tesla(TSLA)stoodoutasthebiggestnameinelectricvehicles,spearheadingthepopularityofsuchcarsintheU.Smarket.ButAlistairWeaver,editor-in-chiefofEdmunds,saysthosedaysareover.“There\\'salotmoreproductcomingintothemarket,”WeaverrecentlytoldYahooFinanceatthe2023NewYorkAutoShow.(Videoabove.)\"Imean,foralongtime,Teslaalmosthadthemarkettothemselves.Andnoweverybody\\'sgettingintothegame—theluxurybrands,themainstreambrands.”Weavercitedseveralnew-to-marketEVs.Forexample,Ford\\'s(F)F-150LightningandGM\\'s(GM)SilveradoEV.Also:theKIAEV9,whichunlikemostsmallerEVs,isathree-rowfamilycar.AndthemuchhypedRam1500EVpickup,whichStellantis,Ram’sparentcompany,contendswillleadtheEVtruckmarketinrange,orthedistanceelectriccarscantravelonafullbattery.“Ramissaying,wemightnotbefirst,butwe\\'regoingtobebetter.We\\'regoingtohavemorerange.We\\'regoingtohavemoreusability,”Weaversaid.\"Sothey\\'vegottheopportunitytoseewhatotherpeoplearedoing.Andnowthey\\'recomingwiththeirownalternative.”Meanwhile,Edmunds,Weaver\\'spublicationseesincreasedinterestinelectricvehiclesalongwithrisinggasolineprices.“Wecanactuallyseeonourwebsitewhatpeoplearesearchingfor,”Weaversaid.“Andassoonasthegaspricesgoup,suddenlyEVsandhybrids,peoplestartlooking.\"OtherhighlightsfromWeaver\\'sYahooFinanceinterview:Supplybottlenecks:Thoughhesayselectricvehiclesmakeuproughly6percentofthecarmarket,theindustryhasrecentlyexperiencedsupplyshortages—likeanyoneelse.“Soit\\'spotentiallyabitofafalsemarket.Assupplyincreases,thenwemightseethesharegoupaswell”hesaid.“We\\'reexpectingittokeepcreepingup,youknow,astheyearsgoby.”Techoverkills?Weavertookissuewiththetechfoundinmanynewelectricvehicles.Forinstance,hecontendedthatthreescreensinsidethenewRamEVtruckwereexcessive.“Imean,it\\'sabigdeal,isn\\'tit?It\\'slikehowbigyourscreenisnowakeysellingpoint,”hesaid.“It\\'sabitlike,asyousay,howbigisyourTV?Imean,Ipersonallythinkthey\\'requitedistracting.“BadGMmove:WeaveralsocriticizedGM’srecentdecisiontoeliminateCarplay,afeaturethatallowsiPhonestoconnecttothecar’sinfotainmentscreenandsoundsystem.',\n",
              "  'Ford(F)CEOJimFarleysentaclearmessagetoTesla(TSLA)investors:Yourprofitmarginswillnotstaysoloftyinperpetuity.\"Teslahasn\\'thadanycompetitionuntilFordandotherscamealong,\"FarleytoldYahooFinanceLiveonFriday(videoabove).\"Nowtheirpricesaredownlike$7,000inoneyear,sothere\\'sgoingtobemorepricecompetitioninthatmarket,andwe\\'recountingonthat.\"TeslaCEOElonMuskdidn\\'treturnYahooFinance\\'srequestforcomment.TheracetotakeabiteoutofTesla\\'sprofitabilityisweighingonFordinthenearterm.FordrevealedThursdayitlost$2.1billiononanoperatingbasisinitsModelE(electric)divisionlastyear.Theautomakerguidedtoanoperatinglossof$3billionforthedivisionfor2023asitinvestsinproductionandbatterycapacity.Thebusinessisexpectedtoreachprofitabilityin2026withan8%operatingmargin.Bycomparison,Tesla\\'soperatingmarginin2022was16.8%.In2021,itcameinat12.1%.Fordcouldtakeout$7billionincostsfromitslegacyautobusinesstohelpfuelitsEVambitionsandbolsteroverallprofitmargins,thecompany\\'sCFOJohnLawlertoldYahooFinanceLivethisweek.TheEVdisclosurescameaspartofa\"teach-in\"foranalystsattheNewYorkStockExchangeonThursdayasitpivotstoanelectrifiedfuture.TheeventwasaimedtohelpWallStreetbetterunderstandtheinnerworkingsofFordbybreakingoutthebusinessintothreenewsegments:ModelE,FordBlue(gas-poweredvehicles),andFordPro(commercialvehiclesandotherservices).WallStreetappreciatedFord\\'sincreasedtransparencybutacknowledgedreachingprofitsinEVsiskeytogettingthestockmovinghigheragain.\"WhilethisisclearlyamomentousoccasionforFordasacompany,webelievetodayislargelyanon-eventforthestock,\"EvercoreISIanalystChrisMcNallywroteinanote.\"WebelievethekeyforFord’sstock,fromhere,istodrivemarketconfidenceintheguided$6-8BnswinginEVprofitabilityexpectedbetween’23and‘26/27.SimilartoGM,weseeFord’sstockasrangebound(between$10and$14)whileallOEMsdealwitha“normalizing”incentivemarketoverthenext12-24months.\"BrianSozziisYahooFinance\\'sExecutiveEditor.FollowSozzionTwitter@BrianSozziandonLinkedIn.Tipsonthebankingcrisis?Emailbrian.sozzi@yahoofinance.comClickhereforthelateststockmarketnewsandin-depthanalysis,includingeventsthat',\n",
              "  \"(Reuters)-TeslaInconThursdaynominatedformerChiefTechnologyOfficerJBStraubeltotheelectric-vehiclemaker'sboard.ThecompanymadeaproxyfilingwiththeU.S.SecuritiesandExchangeCommissionlistingfourTeslaproposalsandonefromashareholderregardingakey-personriskreportthattheboardadvisesvotingagainst.StraubelwouldsucceedHiromichiMizuno,whowillnotstandforre-election.The2023annualmeetingofstockholderswillbeheldonMay16.StraubeljoinedTeslain2004andspent14yearsasthechieftechnologyofficer.HehasbeencreditedwithTesla'sbatterycelldesignandalsoledtheconstructionandconceptofGigafactoryNevadaandtheproductionrampofModel3.(ReportingbyHyunjooJininSanFranciscoandAkashSriraminBengaluru;EditingbyShounakDasguptaandDevikaSyamnath)RelatedQuotes\",\n",
              "  'ByHyunjooJinandPaulLienertSanFrancisco(Reuters)-TeslaIncsaiditplanstoexpandtheuseofcheaper,iron-basedbatteriestoaversionofitsSemiheavyelectrictrucksandanaffordableelectricvehicle.TeslaChiefExecutiveElonMuskhaschampionedonthelithiumironphosphate(LFP)batterytechnologydominatedbyChinesesuppliers,sayinginMarch,\"thevastmajorityoftheheavyliftingforelectrificationwillbeiron-basedcells.\"ButhavingChinesesuppliersbuildbatteryfactoriesintheUnitesStatesisachallengebecauseoftheU.S.-Chinapoliticaltensions.Theworld\\'sbiggestelectriccarmakersaidinitspaperon\"MasterPlanPart3\"releasedonWednesdaythatitwilluseLFPbatteriesfor\"short-range\"heavyelectrictrucks,whichitcalls\"SemiLight,\"withoutprovidingdetailssuchasalaunchingdate.TeslalastDecemberstartedtodeliveritsSemielectrictruckswithalonger,500-miledrivingrangeperchargeandwhichusenickel-basedbatteries.Teslahaspreviouslysaiditwillalsolauncha300-milerangeversion.TheautomakersaiditsproposedsmallelectricvehicleswilluseLFPbatterieswithcapacityof53kilowatt-hours(kWh),versus75kWhforModelYandModel3.Teslasaidlastmonththatitwillcutassemblycostsbyhalfinfuturegenerationsofcars,whichwillbebuiltatitsfactoriesinMexicoandelsewhere.TeslasaiditwillalsouseLFPbatteriesinitsmid-sizedvehicles,Model3andModelY,withoutgivingatimeline.Currently,Teslausesnickel-basedbatteriesformostofitsModel3andModelYvehiclessoldintheUnitedStates.MuskandotherLFPadvocatescitedtheabundanceandcheaperpricesofironasakeyfactoroutweighingthedrawbacksthathaveheldbacktheadoptionofLFPcellsglobally.Theyarebiggerandheavier,andgenerallyholdlessenergythannickel-basedcells,givingthemashorterrange.LFPcellsalsotendtoposelessofafireriskthannickel-basedcells.TeslacurrentlysourcesLFPbatteriesfromChina\\'sContemporaryAmperexTechnologyCo,whichdoesnothaveafactoryintheUnitedStates.Tesla\\'sSouthKoreansupplier,LGEnergySolution,saiditplanstobuildLFPbatteriesatitsproposedArizonafactory.(ReportingbyHyunjooJininSanFranciscoandPaulLinertinDetroit;EditingbyDavidGregorio)RelatedQuotes',\n",
              "  '(Addsdetails;paragraphs2-5)April7(Reuters)-TeslaInchasslashedpricesofitselectricvehiclesintheUnitedStates,itswebsiteshowedonThursday,doublingdownonadiscountdriveagainstthebackdropofaweakeningeconomy.Thecutsrangedfrom1.9%ontheperformanceversionoftheModel3to5.6%onthebasicversionoftheModelS.Tesladidnotimmediatelyrespondtoarequestforcommentonthereductions.ThemovefollowsrepeatedcommentsinrecentmonthsbyChiefExecutiveElconMuskthatTeslawouldfocusonloweringpricestospurdemandandhadseensuccessinsparkingorderswithglobaldiscountsintroducedinJanuary.TeslahascutpricesonbothversionsofitsModelS.Thepriceofthebasicversionwascutby5.6%to$84,990,whilethepriceoftheperformance,Plaidvariantwascutby4.5%to$104,990.PricesofboththeperformanceandbasicvariantsofModel3carswerecutby$1,000,thewebsiteshowed.ThepriceofthebasicversionoftheModel3wascutby2.3%to$41,990whileitsperformanceversionwascutby1.9%to$52,990.(ReportingbyAkritiSharmainBengaluruandAbhirupRoyinSanFrancisco;EditingbyClarenceFernandez)RelatedQuotes',\n",
              "  '©2023-私隱權政策-條款',\n",
              "  'Lastweek,keyelectricvehicle(EV)players,includingEVking\\xa0Tesla\\xa0TSLAandChina-basedEVmakers\\xa0NIOInc.\\xa0NIO,\\xa0XPengInc.\\xa0XPEVand\\xa0LiAutoLIreleasedfirst-quarter2023vehiclesalesdata.ApartfromXPeng,Li,NIOandTSLAwitnesseddeliverygrowthonayearlybasis.Meanwhile,electrictruckupstart\\xa0NikolaCorpNKLAalsomadeheadlinesasitcelebrated100saleordersforClass8FCEV.However,sharesofthecompanywerebrutallypunishedafterthecompanyannounceda$100millionstocksaleplan.PostNikola’s$100millionstocksaleplan,thesharesofthecompanytanked13.7%,sinkingtoarecordlowof$1.15/sharetoclosethesessionat$1.21onMar31.WhileLIcarriesaZacksRank#2(Buy),XPEVandNKLAare#3Ranked(Hold).Meanwhile,TeslacarriesaZacksRank#4(Sell)andNIOis#5Ranked(StrongSell)currently.Youcansee\\xa0thecompletelistoftoday’sZacks#1Rank(StrongBuy)stockshere.Tesladelivered422,875vehiclesinthefirstquarterof2023,comparedwith310,048reportedinthesameperiodof2022and405,278reportedinfourth-quarter2022.ThefigurealsosurpassedtheZacksConsensusEstimateof412,884deliveries.ThestrongnumberscameastheautomakerrampedupproductionatnewfactoriesinTexasandBerlin.ProductionalsorecoveredinChinafromtheCOVID-19lockdown.Itproduced440,808vehiclesinfirst-quarter2023,upfrom305,407reportedinthesameperiodof2022and439,701infourth-quarter2022.ThenumberofdeliveriesforModelS/Xwere10,695,downfrom14,724reportedinthefirstquarterof2022and17,147reportedinthefourthquarterof2022.ThedeliveriesalsolaggedtheZacksConsensusEstimateof18,745.Onthecontrary,thenumberofdeliveriesforModel3/Ywas412,180,upfrom295,324reportedinthefirstquarterof2022and388,131reportedinthefourthquarterof2022.Thedeliveriesalsosurpassedtheconsensusestimateof390,820.NIOdelivered10,378vehiclesinMarch2023.Thedeliveriescomprised3,203premiumsmartelectricSUVsand7,175premiumsmartelectricsedans.Thecompanydelivered31,041vehiclesinthefirstquarterof2023,reflectinganincreaseof20.5%yearonyear.AsofMar31,2023,deliveriesofNIOvehiclestotaled320,597.NIObegandeployingthird-generationPowerSwapstationsinChinaonMar28,2023.Eachstationhasaservicecapacityofupto408swapsperday.Itdeployed1,339PowerSwapstations,1,285PowerChargerstationswith6,467chargers,and1,154destination']}"
            ]
          },
          "execution_count": 6,
          "metadata": {},
          "output_type": "execute_result"
        }
      ],
      "source": [
        "#Seach and scrape cleaned URLs\n",
        "def scrape_and_process(urls):\n",
        "    ARTICLES = []\n",
        "    for url in urls:\n",
        "        r = requests.get(url)\n",
        "        soup = BeautifulSoup(r.text, 'html.parser')\n",
        "        paragraphs = soup.find_all('p')\n",
        "        text = [paragraph.text for paragraph in paragraphs]\n",
        "        words = ''.join(text).split(' ')[:400]\n",
        "        ARTICLE = ''.join(words)\n",
        "        ARTICLES.append(ARTICLE)\n",
        "    return ARTICLES\n",
        "\n",
        "articles = {ticker:scrape_and_process(cleaned_urls[ticker]) for ticker in monitored_tickers}\n",
        "articles"
      ]
    },
    {
      "cell_type": "code",
      "execution_count": 7,
      "metadata": {
        "colab": {
          "background_save": true,
          "base_uri": "https://localhost:8080/"
        },
        "id": "zCK5ah3MCayX",
        "outputId": "7d8b79cc-30b2-4f18-f34a-0c3343a8e5c1"
      },
      "outputs": [
        {
          "name": "stderr",
          "output_type": "stream",
          "text": [
            "Downloading (…)lve/main/config.json: 100%|██████████| 1.58k/1.58k [00:00<00:00, 1.04MB/s]\n",
            "Downloading pytorch_model.bin: 100%|██████████| 1.63G/1.63G [02:43<00:00, 9.93MB/s]\n",
            "Downloading (…)neration_config.json: 100%|██████████| 363/363 [00:00<00:00, 152kB/s]\n",
            "Downloading (…)olve/main/vocab.json: 100%|██████████| 899k/899k [00:00<00:00, 922kB/s]\n",
            "Downloading (…)olve/main/merges.txt: 100%|██████████| 456k/456k [00:00<00:00, 598kB/s]\n",
            "Downloading (…)/main/tokenizer.json: 100%|██████████| 1.36M/1.36M [00:01<00:00, 1.28MB/s]\n",
            "Your max_length is set to 120, but you input_length is only 27. You might consider decreasing max_length manually, e.g. summarizer('...', max_length=13)\n"
          ]
        }
      ],
      "source": [
        "from transformers import pipeline\n",
        "\n",
        "# Define the summarization pipeline\n",
        "summarizer = pipeline(\"summarization\", model=\"facebook/bart-large-cnn\")\n",
        "\n",
        "def summarize_all_articles(articles):\n",
        "    summaries = []\n",
        "    for article in articles:\n",
        "        # Use the summarizer pipeline to generate a summary\n",
        "        summary = summarizer(article, max_length=120, min_length=30, do_sample=False)[0]['summary_text']\n",
        "        summaries.append(summary)\n",
        "    return summaries\n",
        "\n",
        "summaries = {ticker:summarize_all_articles(articles[ticker]) for ticker in monitored_tickers}\n"
      ]
    },
    {
      "cell_type": "code",
      "execution_count": 8,
      "metadata": {
        "colab": {
          "background_save": true
        },
        "id": "Eybfnlj-4dbd"
      },
      "outputs": [
        {
          "name": "stderr",
          "output_type": "stream",
          "text": [
            "Downloading (…)/af0f99b/config.json: 100%|██████████| 629/629 [00:00<00:00, 465kB/s]\n",
            "Downloading pytorch_model.bin: 100%|██████████| 268M/268M [00:28<00:00, 9.47MB/s] \n",
            "Downloading (…)okenizer_config.json: 100%|██████████| 48.0/48.0 [00:00<00:00, 21.5kB/s]\n",
            "Downloading (…)ve/af0f99b/vocab.txt: 100%|██████████| 232k/232k [00:00<00:00, 420kB/s]\n"
          ]
        }
      ],
      "source": [
        "#Calling the sentiment analysis to perform sentiment labelling for the summaries\n",
        "from transformers import pipeline, AutoModelForSequenceClassification, AutoTokenizer\n",
        "model_name = \"distilbert-base-uncased-finetuned-sst-2-english\"\n",
        "model_revision = \"af0f99b\"\n",
        "model = AutoModelForSequenceClassification.from_pretrained(model_name, revision=model_revision)\n",
        "tokenizer = AutoTokenizer.from_pretrained(model_name, revision=model_revision)\n",
        "sentiment = pipeline('sentiment-analysis', model=model, tokenizer=tokenizer)"
      ]
    },
    {
      "cell_type": "code",
      "execution_count": 15,
      "metadata": {
        "colab": {
          "background_save": true
        },
        "id": "Dmzs1-yqcVuI",
        "outputId": "98a7f91c-2e5d-43df-a836-4299a9827a8e"
      },
      "outputs": [
        {
          "name": "stdout",
          "output_type": "stream",
          "text": [
            "{'TSLA': ['Thetech market isaseaofredrightnow, and it’sdraggingWallStreetdownwithit. Thetechmarkethasyettobottomout, andinvestorsshouldbeavoidingthemega-capsatallcosts. But there areemergingstarsfromAIandgamingtosemiconductorsthatunderpinthenewtechtrends.', \"China delivered88,869vehicles in March. Thatmeansmorethanhalfofthecarmaker'sQ1deliveriesoriginatedfromitsShanghaifactory.\", 'GroupsofTeslaemployeesprivatelysharedvia aninternalmessagingsystem. Sometimeshighlyinvasivevideosandimagesrecordedbycustomers’carcameras.', 'Tesla(NASDAQ:TSLA)stock has beenafavouriteofinvestors foranumberofyears. Manyfear thatTeslastockisoverhyped,leadingtoanexcessiveprice-to-earnings(P/E)ratio of52. However,Iprefertofocusontheperformanceofthecompanyitself.Ihavethreekeyreasons why I’mexcitedforwhatTeslahasinstore.', \"AlistairWeaver,editor-in-chiefofEdmunds,saysthosedaysareover. “There'salot moreproductcomingintothemarket,” weaverrecentlytoldYahooFinance.\", \"Ford(F) CEO JimFarley told Tesla(TSLA)investors: Yourprofitmargins willnotstaysoloftyinperpetuity.Theracetotakeabiteout ofTesla'sprofitabilityisweighingonFordinthenearterm.\", \"Tesla incon ThursdaynominatedformerChiefTechnologyOfficerJBStraubeltotheelectric-vehiclemaker's board.Straubel wouldsucceedHiromichiMizuno,whowillnotstandforre-election.\", 'TeslaIncsaiditplanstoexpandtheuseofcheaper,iron-basedbatteriestoaversionofitsSemiheavyelectrictrucks.TeslaChiefExecutiveElonMuskhaschampionedonthelithiumironphosphate(LFP)batterytechnology.', 'Pricesof boththeperformanceandbasicvariantsofModel3carswerecutby$1,000. Thecutsranged from1.9%ontheperformanceversionoftheModel3to5.6%ontthebasicversionoft heModelS.', '2023-私隱權政策-條款. ©2023. www.japanewspaper.com.', 'NikolaCorpNKLAalsomadeheadlines asitcelebrated100saleordersforClass8FCEV. However,sharesofthecompanywerebrutallypunished afterthecompanyannounceda$100millionstocksaleplan. TeslacarriesaZacksRank#4(Sell)and NIOis#5 ranked (StrongSell).']}\n",
            "{'TSLA': [{'label': 'NEGATIVE', 'score': 0.9942891597747803}, {'label': 'NEGATIVE', 'score': 0.9975844621658325}, {'label': 'NEGATIVE', 'score': 0.9863294959068298}, {'label': 'NEGATIVE', 'score': 0.9954836368560791}, {'label': 'NEGATIVE', 'score': 0.994157075881958}, {'label': 'NEGATIVE', 'score': 0.9910755157470703}, {'label': 'NEGATIVE', 'score': 0.9938061237335205}, {'label': 'NEGATIVE', 'score': 0.9798099994659424}, {'label': 'NEGATIVE', 'score': 0.9966198205947876}, {'label': 'POSITIVE', 'score': 0.5316863656044006}, {'label': 'NEGATIVE', 'score': 0.9904288053512573}]}\n",
            "The model finds that stock TSLA is not doing well currently, We recommend that you dont buy for short holding\n"
          ]
        }
      ],
      "source": [
        "#Adding Sentiment Analysis to give a Negative/Positive score\n",
        "#-VE means the market is not good for the product\n",
        "#+VE means the market is good for the product/investment\n",
        "scores = {\n",
        "    ticker: sentiment(summaries[ticker])\n",
        "    for ticker in monitored_tickers\n",
        "}\n",
        "print(summaries)\n",
        "print(scores)\n",
        "#The model counts the -VE sentiment in each score dictionary\n",
        "#If the scores are more than 5, the model predicts you dont buy the stock\n",
        "#The model only counts the NEGATIVE sentiments\n",
        "for ticker in scores:\n",
        "    negative_count = sum(\n",
        "        1 for score in scores[ticker] if score['label'] == 'NEGATIVE'\n",
        "    )\n",
        "    if negative_count > 5:\n",
        "      print(f\"The model finds that stock {ticker} is not doing well currently, We recommend that you dont buy for short holding\")\n",
        "    elif negative_count == 5:\n",
        "      print(f\"The model generates a neutral view on stock {ticker}, further research is needed : Bloomberg / Expedia refinement\")\n",
        "    elif negative_count < 5:\n",
        "      print(f\"The model finds that stock {ticker} is Good to buy for the short term, contact our brokers to buy \")\n"
      ]
    },
    {
      "attachments": {},
      "cell_type": "markdown",
      "metadata": {
        "id": "yH4R9mY42SVB"
      },
      "source": [
        "This slice is for exporting a summary"
      ]
    },
    {
      "cell_type": "code",
      "execution_count": 18,
      "metadata": {
        "colab": {
          "background_save": true
        },
        "id": "RapdL_cbufzY",
        "outputId": "6ae3b3f8-24c3-40d5-e547-2f098dba9a9c"
      },
      "outputs": [
        {
          "data": {
            "text/plain": [
              "[['TSLA',\n",
              "  'NikolaCorpNKLAalsomadeheadlines asitcelebrated100saleordersforClass8FCEV. However,sharesofthecompanywerebrutallypunished afterthecompanyannounceda$100millionstocksaleplan. TeslacarriesaZacksRank#4(Sell)and NIOis#5 ranked (StrongSell).',\n",
              "  {'label': 'NEGATIVE', 'score': 0.9904288053512573},\n",
              "  'https://finance.yahoo.com/news/ev-roundup-tsla-q1-deliveries-141002509.html']]"
            ]
          },
          "execution_count": 18,
          "metadata": {},
          "output_type": "execute_result"
        }
      ],
      "source": [
        "#Step-1 is to summarize the blueprint labels for the CSV\n",
        "#show why the previous tinker is not good to buy\n",
        "def create_output_array(summaries, scores, urls):\n",
        "  output = []\n",
        "  for ticker in monitored_tickers:\n",
        "    for counter in range(len(summaries[ticker])):\n",
        "      output_this = [\n",
        "      ticker,\n",
        "      summaries[ticker][counter],\n",
        "      scores[ticker][counter],\n",
        "      urls[ticker][counter],\n",
        "    ]\n",
        "    output.append(output_this)\n",
        "  return output\n",
        "\n",
        "final_output = create_output_array(summaries,scores,cleaned_urls)\n",
        "final_output"
      ]
    },
    {
      "cell_type": "code",
      "execution_count": 19,
      "metadata": {
        "colab": {
          "background_save": true
        },
        "id": "X_sdyfAtcZkH"
      },
      "outputs": [],
      "source": [
        "#Exporting the results\n",
        "#TOCO--> Fix the csv output\n",
        "final_output.insert(0, ['Ticker', 'Summary', 'Label', 'Confidence', 'Url'])\n",
        "import csv\n",
        "with open('assetsummaries.csv', mode='w', newline='') as f:\n",
        "  csv_writer = csv.writer(f, delimiter = ',', quotechar = '\"', quoting = csv.QUOTE_MINIMAL)\n",
        "  csv_writer.writerows(final_output)"
      ]
    }
  ],
  "metadata": {
    "colab": {
      "provenance": []
    },
    "gpuClass": "standard",
    "kernelspec": {
      "display_name": "Python 3",
      "name": "python3"
    },
    "language_info": {
      "codemirror_mode": {
        "name": "ipython",
        "version": 3
      },
      "file_extension": ".py",
      "mimetype": "text/x-python",
      "name": "python",
      "nbconvert_exporter": "python",
      "pygments_lexer": "ipython3",
      "version": "3.10.6"
    }
  },
  "nbformat": 4,
  "nbformat_minor": 0
}
